{
 "cells": [
  {
   "cell_type": "markdown",
   "metadata": {},
   "source": [
    "# Implementation and Evaluation of Serverless Applications in the AWS Cloud Environment"
   ]
  },
  {
   "cell_type": "markdown",
   "metadata": {},
   "source": [
    "## Structure 1 - "
   ]
  },
  {
   "cell_type": "markdown",
   "metadata": {},
   "source": [
    "## Structure 2 - Serverless WebApp"
   ]
  },
  {
   "cell_type": "markdown",
   "metadata": {},
   "source": [
    "A web application using HTTP API will be deployed. This API includes various routes, such as `options`, `get`, `put`, and `delete`, corresponding to different paths. \n",
    "\n",
    "The setup includes a Lambda function and a DynamoDB table. To make it accessible to users, a static website hosted on Amazon S3 will be deployed. This static website will serve as the front-end interface for users, who can interact with the API via their web browsers.\n",
    "\n",
    "The static website will contain a form where users can enter and submit information. The form will communicate with the public endpoint of the HTTP API, which will pass the data to the Lambda function. The Lambda function will process the request, and the processed data will be stored in a DynamoDB table.\n",
    "\n",
    "1. A user interacts with the static website hosted on S3.\n",
    "2. The website communicates with the HTTP API.\n",
    "3. The API sends the request to the Lambda function.\n",
    "4. The Lambda function processes the request and stores the result in the DynamoDB table.\n",
    "\n",
    "The form that's generated will also be populated with information from the table, so it will always be returned back and viewable."
   ]
  },
  {
   "cell_type": "markdown",
   "metadata": {},
   "source": [
    "<img src=\"figs/serverless_webapp.png\"  style=\"width:85%;\"/>"
   ]
  },
  {
   "cell_type": "markdown",
   "metadata": {},
   "source": [
    "### Create a Stack"
   ]
  },
  {
   "cell_type": "markdown",
   "metadata": {},
   "source": [
    "On Amazon Cloud Formation, we create a Stack from an uploaded template `code/aws-backend-creation-cftemplate.yaml`\n",
    "\n",
    "Stack name: `WebApp`\n",
    "\n",
    "From this template, we can visualize the Application Composer canvas:"
   ]
  },
  {
   "cell_type": "markdown",
   "metadata": {},
   "source": [
    "<img src=\"figs/application_composer_canvas.png\"  style=\"width:85%;\"/>"
   ]
  },
  {
   "cell_type": "markdown",
   "metadata": {},
   "source": [
    "We need to check the field \"I acknowledge that AWS CloudFormation might create IAM resources\".\n",
    "\n",
    "Click `Submit`."
   ]
  },
  {
   "cell_type": "markdown",
   "metadata": {},
   "source": [
    "### Create an S3 Bucket"
   ]
  },
  {
   "cell_type": "markdown",
   "metadata": {},
   "source": [
    "On S3, create a bucket.\n",
    "\n",
    "Bucket name: `frontend-website-00`\n",
    "\n",
    "After creating the bucket, click on it and select \"Properties\". On \"Static website hosting\", click on \"Edit\". Select `Enable`.\n",
    "\n",
    "Index document: `Index.html`.\n",
    "\n",
    "Save changes.\n",
    "\n",
    "Click on \"Permissions\". On \"Block public access (bucket settings)\", click on \"Edit\". Disable `Block all public access`.\n",
    "\n",
    "Save changes.\n",
    "\n",
    "Then Edit \"Bucket policy\". Insert the following code policy:\n",
    "\n",
    "```json\n",
    "{\n",
    "    \"Version\": \"2012-10-17\",\n",
    "    \"Statement\": [\n",
    "        {\n",
    "            \"Sid\": \"PublicReadGetObject\",\n",
    "            \"Effect\": \"Allow\",\n",
    "            \"Principal\": \"*\",\n",
    "            \"Action\": \"s3:GetObject\",\n",
    "            \"Resource\": \"arn:aws:s3:::frontend-website-00/*\"\n",
    "        }\n",
    "    ]\n",
    "}\n",
    "\n",
    "```\n",
    "\n",
    "The Bucket ARN (`arn:aws:s3:::frontend-website-00`) is the field in \"Resource\" plus \"/*\".\n",
    "\n",
    "The bucket policy, written in JSON, provides access to the objects stored in the bucket. Now we have a bucket policy, which allows GetObjects (that is, we can have public reads of objects within the bucket).\n",
    "\n",
    "Go to \"Cross-origin resource sharing (CORS)\" and edit it. Insert this:\n",
    "\n",
    "```json\n",
    "[\n",
    "    {\n",
    "        \"AllowedHeaders\": [\n",
    "            \"*\"\n",
    "        ],\n",
    "        \"AllowedMethods\": [\n",
    "            \"GET\"\n",
    "        ],\n",
    "        \"AllowedOrigins\": [\n",
    "            \"*\"\n",
    "        ],\n",
    "        \"ExposeHeaders\": []\n",
    "    }\n",
    "]\n",
    "```\n",
    "\n",
    "The CORS configuration, written in JSON, defines a way for client web applications that are loaded in one domain to interact with resources in a different domain. This CORS policy allows any headers, the `GET` method, and any origins.\n",
    "\n",
    "\n",
    "\n"
   ]
  },
  {
   "cell_type": "markdown",
   "metadata": {},
   "source": [
    "### Configure API Gateway"
   ]
  },
  {
   "cell_type": "markdown",
   "metadata": {},
   "source": [
    "Go to \"API Gateway\". You can see that Cloud Formation created an API called `items-api`. Click on it and go to \"Stages\". Click on \"Create\".\n",
    "\n",
    "Name: `prod`.\n",
    "\n",
    "Click on \"create\".\n",
    "\n",
    "Go to \"Integrations\" > \"Manage integrations\" > \"Create\".\n",
    "\n",
    "Attach this integration to a route: `$default`\n",
    "\n",
    "Integration type: `Lambda function`\n",
    "\n",
    "AWS Region: `us-east-1` (same for every region asked before)\n",
    "\n",
    "Lambda function: select the option below\n",
    "\n",
    "`arn:aws:lambda:us-east-1:093511299840:function:WebApp-ItemLambdaFunction-gphsBpHEDO06`\n",
    "\n",
    "Click on \"Create\".\n",
    "\n",
    "Copy the \"Integration ID\": `4gt0yqu`.\n",
    "\n",
    "Click on \"Routes\" > \"Create a route\". We'll create different routes for different methods. In \"Route and method\", add the following:\n",
    "\n",
    "`GET` -> `/items`\n",
    "\n",
    "`PUT` -> `/items`\n",
    "\n",
    "`OPTIONS` -> `/items`\n",
    "\n",
    "`GET` -> `/items/{id}`\n",
    "\n",
    "`DELETE` -> `/items/{id}`\n",
    "\n",
    "`OPTIONS` -> `/items/{id}`\n",
    "\n",
    "So we have:\n",
    "\n",
    "```asciidoc\n",
    "$default\n",
    "├── /items\n",
    "│   ├── PUT\n",
    "│   ├── OPTIONS\n",
    "│   ├── GET\n",
    "│   └── /{id}\n",
    "│       ├── OPTIONS\n",
    "│       ├── GET\n",
    "│       └── DELETE\n",
    "```\n",
    "\n",
    "Then we select each one of these, choose \"Attach integration\" > \"Choose an existing integration\". Then choose the one created before (remember Integration ID) and click on \"Attach integration\""
   ]
  },
  {
   "cell_type": "markdown",
   "metadata": {},
   "source": [
    "<img src=\"figs/routes_for_items_api.png\"  style=\"width:15%;\"/>"
   ]
  },
  {
   "cell_type": "markdown",
   "metadata": {},
   "source": [
    "Go to \"CORS\" > \"Configure\".\n",
    "\n",
    "Access-Control-Allow-Origin: `https://frontend-website-00.s3.amazonaws.com`\n",
    "\n",
    "Access-Control-Allow-Headers: `*`\n",
    "\n",
    "Access-Control-Allow-Methods: `*`\n",
    "\n",
    "Access-Control-Expose-Headers: `*`\n",
    "\n",
    "Access-Control-Max-Age: `96400`\n",
    "\n",
    "Access-Control-Allow-Credentials: `yes`\n",
    "\n",
    "Click on \"Save\". Click on \"Deploy\".\n",
    "\n",
    "Stage: `prod`\n",
    "\n",
    "In the \"Stages\" section in the left-hand panel, we can find `prod`'s invoke URL: `https://txi4irodvl.execute-api.us-east-1.amazonaws.com/prod`"
   ]
  },
  {
   "cell_type": "markdown",
   "metadata": {},
   "source": [
    "### Client-side code"
   ]
  },
  {
   "cell_type": "markdown",
   "metadata": {},
   "source": [
    "On our `code/client/src/config.ts` file, we need to have the invoke URL:\n",
    "\n",
    "```typescript\n",
    "const apiId = 'txi4irodvl'\n",
    "export const apiEndpoint = `https://${apiId}.execute-api.us-east-1.amazonaws.com/prod`\n",
    "```"
   ]
  },
  {
   "cell_type": "markdown",
   "metadata": {},
   "source": [
    "Open a terminal.\n",
    "\n",
    "```ssh\n",
    "PS C:\\Users\\AlexFidalgoZamikhows\\Projects\\EACH\\CloudComputing\\TrabalhoFinal\\code\\client> npm install\n",
    "...\n",
    "Run `npm audit` for details.\n",
    "npm notice\n",
    "npm notice New major version of npm available! 9.8.1 -> 10.8.3\n",
    "npm notice Changelog: https://github.com/npm/cli/releases/tag/v10.8.3\n",
    "npm notice Run npm install -g npm@10.8.3 to update!\n",
    "npm notice\n",
    "```\n",
    "\n",
    "Now run\n",
    "\n",
    "```ssh\n",
    "npm run build\n",
    "```\n",
    "\n",
    "Now we have a `build` directory with our compiled code in it:\n",
    "\n",
    "```sh\n",
    "PS C:\\Users\\AlexFidalgoZamikhows\\Projects\\EACH\\CloudComputing\\TrabalhoFinal\\code\\client> ls\n",
    "    Directory: C:\\Users\\AlexFidalgoZamikhows\\Projects\\EACH\\CloudComputing\\TrabalhoFinal\\code\\client\n",
    "Mode                 LastWriteTime         Length Name\n",
    "----                 -------------         ------ ----\n",
    "d-----         9/30/2024  12:13 PM                build\n",
    "d-----         9/30/2024  12:12 PM                node_modules\n",
    "d-----         9/30/2024  11:46 AM                public\n",
    "d-----         9/30/2024  11:46 AM                src\n",
    "-a----         9/30/2024   9:02 AM            261 .editorconfig\n",
    "-a----         9/30/2024   9:02 AM            107 .prettierrc.json\n",
    "-a----         9/30/2024  11:57 AM         828178 package-lock.json\n",
    "-a----         9/30/2024   9:02 AM           1090 package.json\n",
    "-a----         9/30/2024   9:02 AM            791 README.md\n",
    "-a----         9/30/2024   9:02 AM            494 tsconfig.json\n",
    "```\n",
    "\n",
    "Inside build:\n",
    "\n",
    "```sh\n",
    "    Directory: C:\\Users\\AlexFidalgoZamikhows\\Projects\\EACH\\CloudComputing\\TrabalhoFinal\\code\\client\\build\n",
    "Mode                 LastWriteTime         Length Name\n",
    "----                 -------------         ------ ----\n",
    "d-----         9/30/2024  12:13 PM                static\n",
    "-a----         9/30/2024  12:13 PM           1035 asset-manifest.json\n",
    "-a----         9/30/2024   9:02 AM           3870 favicon.ico\n",
    "-a----         9/30/2024  12:13 PM           2125 index.html\n",
    "-a----         9/30/2024   9:02 AM            292 manifest.json\n",
    "-a----         9/30/2024  12:13 PM           2503 precache-manifest.b82a456ee0bc7dc8666f0e1e42e9822f.js\n",
    "-a----         9/30/2024  12:13 PM           1039 service-worker.js\n",
    "```"
   ]
  },
  {
   "cell_type": "markdown",
   "metadata": {},
   "source": [
    "### Upload files to S3 Bucket"
   ]
  },
  {
   "cell_type": "markdown",
   "metadata": {},
   "source": [
    "Go to the `frontend-website-00` bucket. Under \"Objects\" select \"Upload\". Paste all documents inside the `build` directory and click on \"Upload\".\n",
    "\n",
    "Under \"Objects\", click on `index.html` and copy:\n",
    "\n",
    "Object URL: `https://frontend-website-00.s3.amazonaws.com/index.html`"
   ]
  },
  {
   "cell_type": "markdown",
   "metadata": {},
   "source": [
    "### Accessing and Using WebApp\n",
    "\n",
    "Open a browser and go to `https://frontend-website-00.s3.amazonaws.com/index.html`."
   ]
  },
  {
   "cell_type": "markdown",
   "metadata": {},
   "source": [
    "<img src=\"figs/webapp_index.png\"  style=\"width:85%;\"/>"
   ]
  },
  {
   "cell_type": "markdown",
   "metadata": {},
   "source": [
    "We have a form displayed. If we click on it, we see that no items have been added yet:"
   ]
  },
  {
   "cell_type": "markdown",
   "metadata": {},
   "source": [
    "<img src=\"figs/items.png\"  style=\"width:25%;\"/>"
   ]
  },
  {
   "cell_type": "markdown",
   "metadata": {},
   "source": [
    "We can add items:"
   ]
  },
  {
   "cell_type": "markdown",
   "metadata": {},
   "source": [
    "<img src=\"figs/adding_item.png\"  style=\"width:25%;\"/>"
   ]
  },
  {
   "cell_type": "markdown",
   "metadata": {},
   "source": [
    "We got an error when trying to add a new item:\n",
    "\n",
    "``` css\n",
    "Failed to fetch items: Request failed with status code 500\n",
    "```\n",
    "\n",
    "Let's check the \"logs\" in `CloudWatch`:\n",
    "\n",
    "<img src=\"figs/error_logs.png\"  style=\"width:85%;\"/>"
   ]
  },
  {
   "cell_type": "markdown",
   "metadata": {},
   "source": [
    "If we expand the ERROR log, we get:\n",
    "\n",
    "```bash\n",
    "2024-09-30T16:05:06.899Z\tundefined\tERROR\tUncaught Exception \t{\n",
    "    \"errorType\": \"Runtime.ImportModuleError\",\n",
    "    \"errorMessage\": \"Error: Cannot find module 'aws-sdk'\\nRequire stack:\\n- /var/task/index.js\\n- /var/runtime/index.mjs\",\n",
    "    \"stack\": [\n",
    "        \"Runtime.ImportModuleError: Error: Cannot find module 'aws-sdk'\",\n",
    "        \"Require stack:\",\n",
    "        \"- /var/task/index.js\",\n",
    "        \"- /var/runtime/index.mjs\",\n",
    "        \"    at _loadUserApp (file:///var/runtime/index.mjs:1087:17)\",\n",
    "        \"    at async UserFunction.js.module.exports.load (file:///var/runtime/index.mjs:1119:21)\",\n",
    "        \"    at async start (file:///var/runtime/index.mjs:1282:23)\",\n",
    "        \"    at async file:///var/runtime/index.mjs:1288:1\"\n",
    "    ]\n",
    "}\n",
    "```"
   ]
  },
  {
   "cell_type": "markdown",
   "metadata": {},
   "source": [
    "The module \"aws-sdk\" hadn't been installed from the template, so we had to do it manually."
   ]
  },
  {
   "cell_type": "markdown",
   "metadata": {},
   "source": [
    "Now we can successfully add items:\n",
    "\n",
    "<img src=\"figs/filled_form.png\"  style=\"width:70%;\"/>"
   ]
  },
  {
   "cell_type": "markdown",
   "metadata": {},
   "source": [
    "Now we check on `DynamoDB` if they are actually there. Go to \"DynamoDB\" > \"Tables\", click on the `all-items` table, click on \"Explore items\".\n",
    "\n",
    "<img src=\"figs/dynamodb_items.png\"  style=\"width:60%;\"/>"
   ]
  },
  {
   "cell_type": "markdown",
   "metadata": {},
   "source": [
    "Likewise, if we delete items on the frontend, they are deleted from the DynamoDB database.\n",
    "\n",
    "After finished, remove the created Stack (this will delete the API Gateway, the Lambda function and the DynamoDB table) and then remove the S3 Bucket."
   ]
  }
 ],
 "metadata": {
  "language_info": {
   "name": "python"
  }
 },
 "nbformat": 4,
 "nbformat_minor": 2
}
