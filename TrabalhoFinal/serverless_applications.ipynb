{
 "cells": [
  {
   "cell_type": "markdown",
   "metadata": {},
   "source": [
    "# Implementation and Evaluation of Serverless Applications in the AWS Cloud Environment"
   ]
  },
  {
   "cell_type": "markdown",
   "metadata": {},
   "source": [
    "## Structure 1 - Serverless Storage and Connector"
   ]
  },
  {
   "cell_type": "markdown",
   "metadata": {},
   "source": [
    "## Structure 2 - Serverless WebApp"
   ]
  },
  {
   "cell_type": "markdown",
   "metadata": {},
   "source": [
    "A web application using HTTP API will be deployed. This API includes various routes, such as `options`, `get`, `put`, and `delete`, corresponding to different paths. \n",
    "\n",
    "The setup includes a Lambda function and a DynamoDB table. To make it accessible to users, a static website hosted on Amazon S3 will be deployed. This static website will serve as the front-end interface for users, who can interact with the API via their web browsers.\n",
    "\n",
    "The static website will contain a form where users can enter and submit information. The form will communicate with the public endpoint of the HTTP API, which will pass the data to the Lambda function. The Lambda function will process the request, and the processed data will be stored in a DynamoDB table.\n",
    "\n",
    "1. A user interacts with the static website hosted on S3.\n",
    "2. The website communicates with the HTTP API.\n",
    "3. The API sends the request to the Lambda function.\n",
    "4. The Lambda function processes the request and stores the result in the DynamoDB table.\n",
    "\n",
    "The form that's generated will also be populated with information from the table, so it will always be returned back and viewable."
   ]
  },
  {
   "cell_type": "markdown",
   "metadata": {},
   "source": [
    "<img src=\"figs/serverless_webapp.png\"  style=\"width:85%;\"/>"
   ]
  },
  {
   "cell_type": "markdown",
   "metadata": {},
   "source": [
    "### Create a Stack"
   ]
  },
  {
   "cell_type": "markdown",
   "metadata": {},
   "source": [
    "On Amazon Cloud Formation, we create a Stack from an uploaded template `code/aws-backend-creation-cftemplate.yaml`\n",
    "\n",
    "Stack name: `WebApp`\n",
    "\n",
    "From this template, we can visualize the Application Composer canvas:"
   ]
  },
  {
   "cell_type": "markdown",
   "metadata": {},
   "source": [
    "<img src=\"figs/application_composer_canvas.png\"  style=\"width:85%;\"/>"
   ]
  },
  {
   "cell_type": "markdown",
   "metadata": {},
   "source": [
    "We need to check the field \"I acknowledge that AWS CloudFormation might create IAM resources\".\n",
    "\n",
    "Click `Submit`."
   ]
  },
  {
   "cell_type": "markdown",
   "metadata": {},
   "source": [
    "### Create an S3 Bucket"
   ]
  },
  {
   "cell_type": "markdown",
   "metadata": {},
   "source": [
    "On S3, create a bucket.\n",
    "\n",
    "Bucket name: `frontend-website-0`\n",
    "\n",
    "After creating the bucket, click on it and select \"Properties\". On \"Static website hosting\", click on \"Edit\". Select `Enable`.\n",
    "\n",
    "Index document: `Index.html`.\n",
    "\n",
    "Save changes.\n",
    "\n",
    "Click on \"Permissions\". On \"Block public access (bucket settings)\", click on \"Edit\". Disable `Block all public access`.\n",
    "\n",
    "Save changes.\n",
    "\n",
    "Then Edit \"Bucket policy\". Insert the following code policy:\n",
    "\n",
    "```json\n",
    "{\n",
    "    \"Version\": \"2012-10-17\",\n",
    "    \"Statement\": [\n",
    "        {\n",
    "            \"Sid\": \"PublicReadGetObject\",\n",
    "            \"Effect\": \"Allow\",\n",
    "            \"Principal\": \"*\",\n",
    "            \"Action\": \"s3:GetObject\",\n",
    "            \"Resource\": \"arn:aws:s3:::frontend-website-0/*\"\n",
    "        }\n",
    "    ]\n",
    "}\n",
    "\n",
    "```\n",
    "\n",
    "The Bucket ARN (`arn:aws:s3:::frontend-website-0`) is the field in \"Resource\" plus \"/*\".\n",
    "\n",
    "The bucket policy, written in JSON, provides access to the objects stored in the bucket. Now we have a bucket policy, which allows GetObjects (that is, we can have public reads of objects within the bucket).\n",
    "\n",
    "Go to \"Cross-origin resource sharing (CORS)\" and edit it. Insert this:\n",
    "\n",
    "```json\n",
    "[\n",
    "    {\n",
    "        \"AllowedHeaders\": [\n",
    "            \"*\"\n",
    "        ],\n",
    "        \"AllowedMethods\": [\n",
    "            \"GET\"\n",
    "        ],\n",
    "        \"AllowedOrigins\": [\n",
    "            \"*\"\n",
    "        ],\n",
    "        \"ExposeHeaders\": []\n",
    "    }\n",
    "]\n",
    "```\n",
    "\n",
    "The CORS configuration, written in JSON, defines a way for client web applications that are loaded in one domain to interact with resources in a different domain. This CORS policy allows any headers, the `GET` method, and any origins.\n",
    "\n",
    "\n",
    "\n"
   ]
  },
  {
   "cell_type": "markdown",
   "metadata": {},
   "source": [
    "### Configure API Gateway"
   ]
  },
  {
   "cell_type": "markdown",
   "metadata": {},
   "source": [
    "Go to \"API Gateway\". You can see that Cloud Formation created an API called `items-api`. Click on it and go to \"Stages\". Click on \"Create\".\n",
    "\n",
    "Name: `prod`.\n",
    "\n",
    "Click on \"create\".\n",
    "\n",
    "Go to \"Integrations\" > \"Manage integrations\" > \"Create\".\n",
    "\n",
    "Attach this integration to a route: `$default`\n",
    "\n",
    "Integration type: `Lambda function`\n",
    "\n",
    "AWS Region: `us-east-1` (same for every region asked before)\n",
    "\n",
    "Lambda function: `arn:aws:lambda:us-east-1:093511299840:function:WebApp-ItemLambdaFunction-VwHfJ4KyYg2b`\n",
    "\n",
    "Click on \"Create\".\n",
    "\n",
    "Copy the \"Integration ID\": `dhp9nre`.\n",
    "\n",
    "Click on \"Routes\" > \"Create a route\". We'll create different routes for different methods. In \"Route and method\", add the following:\n",
    "\n",
    "`GET` -> `/items`\n",
    "\n",
    "`PUT` -> `/items`\n",
    "\n",
    "`OPTIONS` -> `/items`\n",
    "\n",
    "`GET` -> `/items/{id}`\n",
    "\n",
    "`DELETE` -> `/items/{id}`\n",
    "\n",
    "`OPTIONS` -> `/items/{id}`\n",
    "\n",
    "So we have:\n",
    "\n",
    "```asciidoc\n",
    "$default\n",
    "├── /items\n",
    "│   ├── PUT\n",
    "│   ├── OPTIONS\n",
    "│   ├── GET\n",
    "│   └── /{id}\n",
    "│       ├── OPTIONS\n",
    "│       ├── GET\n",
    "│       └── DELETE\n",
    "```\n",
    "\n",
    "Then we select each one of these, choose \"Attach integration\" > \"Choose an existing integration\". Then choose the one created before (remember Integration ID) and click on \"Attach integration\""
   ]
  },
  {
   "cell_type": "markdown",
   "metadata": {},
   "source": [
    "<img src=\"figs/routes_for_items_api.png\"  style=\"width:15%;\"/>"
   ]
  },
  {
   "cell_type": "markdown",
   "metadata": {},
   "source": [
    "Go to \"CORS\" > \"Configure\".\n",
    "\n",
    "Access-Control-Allow-Origin: `https://frontend-website-0.s3.amazonaws.com`\n",
    "\n",
    "Access-Control-Allow-Headers: `*`\n",
    "\n",
    "Access-Control-Allow-Methods: `*`\n",
    "\n",
    "Access-Control-Expose-Headers: `*`\n",
    "\n",
    "Access-Control-Max-Age: `96400`\n",
    "\n",
    "Access-Control-Allow-Credentials: `yes`\n",
    "\n",
    "Click on \"Save\". Click on \"Deploy\".\n",
    "\n",
    "Stage: `prod`\n",
    "\n",
    "In `API Gateway\\APIs\\items-api\\Stages`, we can find `prod`'s invoke URL: `https://ca75u89v9f.execute-api.us-east-1.amazonaws.com/prod`"
   ]
  },
  {
   "cell_type": "markdown",
   "metadata": {},
   "source": [
    "### Client-side code"
   ]
  },
  {
   "cell_type": "markdown",
   "metadata": {},
   "source": [
    "On our `code/client/src/config.ts` file, we need to have the invoke URL:\n",
    "\n",
    "```typescript\n",
    "const apiId = 'ca75u89v9f'\n",
    "export const apiEndpoint = `https://${apiId}.execute-api.us-east-1.amazonaws.com/prod`\n",
    "```"
   ]
  },
  {
   "cell_type": "markdown",
   "metadata": {},
   "source": [
    "Open a terminal.\n",
    "\n",
    "```\n",
    "PS C:\\Users\\AlexFidalgoZamikhows\\Projects\\EACH\\CloudComputing\\TrabalhoFinal\\code\\client> npm install\n",
    "\n",
    "```"
   ]
  }
 ],
 "metadata": {
  "language_info": {
   "name": "python"
  }
 },
 "nbformat": 4,
 "nbformat_minor": 2
}
