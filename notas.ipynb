{
 "cells": [
  {
   "cell_type": "markdown",
   "metadata": {},
   "source": [
    "# Visão Geral dos Conceitos de Nuvem"
   ]
  },
  {
   "cell_type": "markdown",
   "metadata": {},
   "source": [
    "Computação em Nuvem é a entrega <span style=\"color:brown;\">sob demanda</span> de <span style=\"color:yellow;\">poder computacional</span>, <span style=\"color:yellow;\">banco de dados</span>, <span style=\"color:yellow;\">armazenamento</span>, <span style=\"color:yellow;\">aplicativos</span> e outros recursos de TI <span style=\"color:brown;\">pela internet</span> com uma definição de <span style=\"color:brown;\">preço conforme o uso</span>.\n",
    "\n",
    "Permite que a organização deixe de pensar na infraestrutura como hardware e passe a pensar nela (e usá-la) como software.\n",
    "\n",
    "No modelo de computação tradicional, a infraestrutura é hardware. Isso exige espaço, equipe, segurança física, planejamento, despesas de capital e provisionamento de capacidade por meio de tentativa de adivinhar os picos máximos teóricos. Existe um ciclo longo de aquisição de hardware. \n",
    "\n",
    "Já no modelo de computação em nuvem, a infraestrutura é software. As soluções são flexíveis, podem mudar com mais rapidez, facilidade e economia do que as soluções de hardware e eliminam as tarefas monolíticas de trabalho pesado."
   ]
  },
  {
   "cell_type": "markdown",
   "metadata": {},
   "source": [
    "<img src=\"figs/aula01/iaas_saas_paas.png\" alt=\"IaaS, PaaS, and SaaS Comparison\" style=\"width:40%;\"/>\n"
   ]
  },
  {
   "cell_type": "markdown",
   "metadata": {},
   "source": [
    "- **Public**: This model represents the use of cloud services provided by third-party cloud service providers. All the infrastructure and services are managed by the provider, and the user can access and utilize these resources over the internet. It offers scalability, flexibility, and a pay-as-you-go pricing model.\n",
    "\n",
    "- **Hybrid**: This model combines both cloud and on-premises infrastructure. It allows data and applications to be shared between them, providing greater flexibility and more deployment options. This approach can help businesses balance between having control over critical data and leveraging the benefits of cloud computing.\n",
    "\n",
    "- **Private**: In this model, the cloud infrastructure is hosted within an organization’s own data center. It offers greater control over data, enhanced security, and compliance with regulatory requirements. This is ideal for organizations that have stringent data privacy needs and require complete control over their IT environment."
   ]
  },
  {
   "cell_type": "markdown",
   "metadata": {},
   "source": [
    "<img src=\"figs/aula01/aws.png\" alt=\"IaaS, PaaS, and SaaS Comparison\" style=\"width:70%;\"/>\n",
    "\n",
    "\n",
    "### Security\n",
    "- **Traditional IT:**\n",
    "  - **Firewalls:** Used to protect the network from unauthorized access.\n",
    "  - **ACLs:** Access Control Lists used to manage user permissions.\n",
    "  - **Administradores:** Administrators who manage security policies and configurations.\n",
    "- **AWS:**\n",
    "  - **Grupos de segurança (Security Groups):** Control the inbound and outbound traffic to AWS resources.\n",
    "  - **ACLs de rede (Network ACLs):** Provide an additional layer of security at the subnet level.\n",
    "  - **IAM:** Identity and Access Management to control user permissions and access to AWS resources.\n",
    "\n",
    "### Networking\n",
    "- **Traditional IT:**\n",
    "  - **Roteador (Router):** Directs data packets between networks.\n",
    "  - **Pipeline de rede (Network Pipeline):** Manages the flow of data in and out of the network.\n",
    "  - **Switch:** Connects devices within the same network to enable communication.\n",
    "- **AWS:**\n",
    "  - **Elastic Load Balancing:** Distributes incoming application traffic across multiple targets.\n",
    "  - **Amazon VPC:** Virtual Private Cloud to provision a logically isolated section of the AWS cloud.\n",
    "\n",
    "### Compute\n",
    "- **Traditional IT:**\n",
    "  - **Servidores locais (Local Servers):** Physical servers hosted on-premises.\n",
    "- **AWS:**\n",
    "  - **AMI:** Amazon Machine Images to launch virtual servers.\n",
    "  - **Instâncias do Amazon EC2:** Virtual servers in the cloud providing scalable computing capacity.\n",
    "\n",
    "### Storage and Databases\n",
    "- **Traditional IT:**\n",
    "  - **DAS (Direct-Attached Storage):** Storage directly attached to the server.\n",
    "  - **SAN (Storage Area Network):** High-speed network of storage devices.\n",
    "  - **NAS (Network-Attached Storage):** Dedicated file storage connected to a network.\n",
    "  - **RDBMS (Relational Database Management Systems):** Databases hosted on-premises.\n",
    "- **AWS:**\n",
    "  - **Amazon EBS:** Elastic Block Store for persistent block storage.\n",
    "  - **Amazon EFS:** Elastic File System for scalable file storage.\n",
    "  - **Amazon S3:** Simple Storage Service for scalable object storage.\n",
    "  - **Amazon RDS:** Relational Database Service for managed relational databases.\n"
   ]
  },
  {
   "cell_type": "markdown",
   "metadata": {},
   "source": [
    "Using a cloud solution often represents a shift from Capital Expenditure (CapEx) to Operational Expenditure (OpEx).\n",
    "\n",
    "Devido ao uso agregado de todos os clientes, a AWS pode proporcionar grande economia de escala e repassar os descontos para os clientes.\n",
    "\n",
    "<img src=\"figs/aula01/scalability.png\" alt=\"IaaS, PaaS, and SaaS Comparison\" style=\"width:70%;\"/>"
   ]
  },
  {
   "cell_type": "markdown",
   "metadata": {},
   "source": [
    "## Introdução à Amazon Web Services"
   ]
  },
  {
   "cell_type": "markdown",
   "metadata": {},
   "source": [
    "Um <span style=\"color: #5a2ca0;\">serviço web</span> é qualquer software disponibilizado pela Internet que usa um <span style=\"color: #5a2ca0;\">formato padronizado</span>, como Extensible Markup Language (XML) ou JavaScript Object Notation (JSON), para a solicitação e resposta de uma interação de <span style=\"color: #5a2ca0;\">Application Programming Interface (API)</span>.\n",
    "\n",
    "O pagamento se dá apenas pelos serviços individuais necessários, pelo tempo de utilização.\n"
   ]
  },
  {
   "cell_type": "markdown",
   "metadata": {},
   "source": [
    "### Exemplo de Solução"
   ]
  },
  {
   "cell_type": "markdown",
   "metadata": {},
   "source": [
    "<img src=\"figs/aula01/sol1.png\" alt=\"IaaS, PaaS, and SaaS Comparison\" style=\"width:50%;\"/>\n",
    "\n",
    "1. **Usuários (Users)**\n",
    "   - **Users**: Represent the end-users who interact with the application or services hosted on the AWS cloud.\n",
    "\n",
    "2. **Nuvem AWS (AWS Cloud)**\n",
    "   - **AWS Cloud**: The overall cloud environment provided by Amazon Web Services (AWS).\n",
    "\n",
    "3. **Virtual Private Cloud (VPC)**\n",
    "   - **Virtual Private Cloud (VPC)**: A logically isolated section of the AWS cloud where you can launch AWS resources in a virtual network that you define. It provides complete control over the virtual networking environment, including selection of your IP address range, creation of subnets, and configuration of route tables and network gateways.\n",
    "\n",
    "4. **Amazon EC2**\n",
    "   - **Amazon EC2 (Elastic Compute Cloud)**: Provides resizable compute capacity in the cloud. It allows you to run virtual servers, known as instances, to host your applications and services.\n",
    "\n",
    "5. **Amazon DynamoDB**\n",
    "   - **Amazon DynamoDB**: A fully managed NoSQL database service that provides fast and predictable performance with seamless scalability. It is used to store and retrieve any amount of data, and serve any level of request traffic.\n",
    "\n",
    "6. **Amazon S3**\n",
    "   - **Amazon S3 (Simple Storage Service)**: An object storage service that offers industry-leading scalability, data availability, security, and performance. It is used to store and protect any amount of data for a range of use cases, such as data lakes, websites, mobile applications, backup and restore, archive, enterprise applications, IoT devices, and big data analytics.\n",
    "\n",
    "- **Users** interact with the application through the **Nuvem AWS (AWS Cloud)**.\n",
    "- **Virtual Private Cloud (VPC)** acts as the main networking component, isolating the environment and controlling network traffic.\n",
    "- **Amazon EC2** instances run within the VPC and handle the compute workload.\n",
    "- **Amazon DynamoDB** is used for database storage, interacting with EC2 instances to handle data operations.\n",
    "- **Amazon S3** is used for storing and retrieving files and objects, providing durable and scalable storage.\n",
    "- The components are interconnected within the VPC, ensuring secure and efficient communication between the services.\n",
    "\n",
    "- **Redes (Networking)**\n",
    "  - Includes services like VPC which provides networking capabilities.\n",
    "- **Computação (Compute)**\n",
    "  - Includes services like Amazon EC2 which provide computing power.\n",
    "- **Banco de dados (Database)**\n",
    "  - Includes services like Amazon DynamoDB for database management.\n",
    "- **Armazenamento (Storage)**\n",
    "  - Includes services like Amazon S3 for object storage.\n",
    "\n",
    "This simple solution example demonstrates how different AWS services can be combined to create a secure, scalable, and efficient cloud infrastructure. The interaction between compute, database, and storage services within a Virtual Private Cloud (VPC) ensures that the application can handle various workloads and provide reliable service to end-users.\n"
   ]
  },
  {
   "cell_type": "markdown",
   "metadata": {},
   "source": [
    "### Três maneiras de interagir com a AWS\n",
    "\n",
    "1. **Console de Gerenciamento da AWS**\n",
    "   - Interface gráfica fácil de usar\n",
    "   - Provides a user-friendly graphical interface to interact with AWS services.\n",
    "\n",
    "2. **Interface da linha de comando (CLI da AWS)**\n",
    "   - Acesso a serviços por comandos ou scripts específicos\n",
    "   - Allows access to AWS services using command line commands or specific scripts.\n",
    "\n",
    "3. **Kits de desenvolvimento de software (SDKs)**\n",
    "   - Acesse serviços diretamente do seu código (como Java, Python e outros)\n",
    "   - Enables access to AWS services directly from your code in various programming languages like Java, Python, and others."
   ]
  },
  {
   "cell_type": "markdown",
   "metadata": {},
   "source": [
    "####  AWS Cloud Adoption Framework (CAF)"
   ]
  },
  {
   "cell_type": "markdown",
   "metadata": {},
   "source": [
    "O AWS CAF oferece orientação e melhores práticas para ajudar as organizações a criar uma abordagem abrangente para a computação em nuvem em toda a organização e durante todo o ciclo de vida de TI para acelerar a adoção bem-sucedida da nuvem."
   ]
  },
  {
   "cell_type": "markdown",
   "metadata": {},
   "source": [
    "## The NIST Definition of Cloud Computing"
   ]
  },
  {
   "cell_type": "markdown",
   "metadata": {},
   "source": [
    "Cloud computing is a model for enabling ubiquitous, convenient, on-demand network access to a shared pool of configurable computing resources (e.g., networks, servers, storage, applications, and services) that can be rapidly provisioned and released with minimal management effort or service provider interaction. This cloud model is composed of five essential characteristics, three service models, and four deployment models."
   ]
  },
  {
   "cell_type": "markdown",
   "metadata": {},
   "source": [
    "### Essential Characteristics:\n",
    "\n",
    "- **On-demand self-service.** A consumer can unilaterally provision computing capabilities, such as server time and network storage, as needed automatically without requiring human interaction with each service provider.\n",
    "\n",
    "- **Broad network access.** Capabilities are available over the network and accessed through standard mechanisms that promote use by heterogeneous thin or thick client platforms (e.g., mobile phones, tablets, laptops, and workstations).\n",
    "\n",
    "- **Resource pooling.** The provider’s computing resources are pooled to serve multiple consumers using a multi-tenant model, with different physical and virtual resources dynamically assigned and reassigned according to consumer demand. There is a sense of location independence in that the customer generally has no control or knowledge over the exact location of the provided resources but may be able to specify location at a higher level of abstraction (e.g., country, state, or datacenter). Examples of resources include storage, processing, memory, and network bandwidth.\n",
    "\n",
    "- **Rapid elasticity.** Capabilities can be elastically provisioned and released, in some cases automatically, to scale rapidly outward and inward commensurate with demand. To the consumer, the capabilities available for provisioning often appear to be unlimited and can be appropriated in any quantity at any time.\n",
    "\n",
    "- **Measured service.** Cloud systems automatically control and optimize resource use by leveraging a metering capability at some level of abstraction appropriate to the type of service (e.g., storage, processing, bandwidth, and active user accounts). Resource usage can be monitored, controlled, and reported, providing transparency for both the provider and consumer of the utilized service.\n"
   ]
  },
  {
   "cell_type": "markdown",
   "metadata": {},
   "source": [
    "### Service Models\n",
    "\n",
    "#### Software as a Service (SaaS)\n",
    "The capability provided to the consumer is to use the provider’s applications running on a cloud infrastructure. The applications are accessible from various client devices through either a thin client interface, such as a web browser (e.g., web-based email), or a program interface. The consumer does not manage or control the underlying cloud infrastructure including network, servers, operating systems, storage, or even individual application capabilities, with the possible exception of limited user-specific application configuration settings.\n",
    "\n",
    "A cloud infrastructure is the collection of hardware and software that enables the five essential characteristics of cloud computing. The cloud infrastructure can be viewed as containing both a physical layer and an abstraction layer. The physical layer consists of the hardware resources that are necessary to support the cloud services being provided, and typically includes server, storage and network components. The abstraction layer consists of the software deployed across the physical layer, which manifests the essential cloud characteristics. Conceptually the abstraction layer sits above the physical layer.\n",
    "\n",
    "#### Platform as a Service (PaaS)\n",
    "\n",
    "The capability provided to the consumer is to deploy onto the cloud infrastructure consumer-created or acquired applications created using programming languages, libraries, services, and tools supported by the provider (this capability does not necessarily preclude the use of compatible programming languages, libraries, services, and tools from\n",
    "other sources). The consumer does not manage or control the underlying cloud infrastructure including network, servers, operating systems, or storage, but has control over the deployed applications and possibly configuration settings for the application-hosting environment.\n",
    "\n",
    "#### Infrastructure as a Service (IaaS)\n",
    "\n",
    "The capability provided to the consumer is to provision processing, storage, networks, and other fundamental computing resources where the consumer is able to deploy and run arbitrary software, which can include operating systems and applications. The consumer does not manage or control the underlying cloud infrastructure but has control over operating systems, storage, and deployed applications; and possibly limited control of select networking components (e.g., host firewalls)."
   ]
  },
  {
   "cell_type": "markdown",
   "metadata": {},
   "source": [
    "### Deployment Models\n",
    "\n",
    "- **Private cloud.** The cloud infrastructure is provisioned for exclusive use by a single organization comprising multiple consumers (e.g., business units). It may be owned, managed, and operated by the organization, a third party, or some combination of them, and it may exist on or off premises.\n",
    "\n",
    "- **Community cloud.** The cloud infrastructure is provisioned for exclusive use by a specific community of consumers from organizations that have shared concerns (e.g., mission, security requirements, policy, and compliance considerations). It may be owned, managed, and operated by one or more of the organizations in the community, a third party, or some combination of them, and it may exist on or off premises.\n",
    "\n",
    "- **Public cloud.** The cloud infrastructure is provisioned for open use by the general public. It may be owned, managed, and operated by a business, academic, or government organization, or some combination of them. It exists on the premises of the cloud provider.\n",
    "\n",
    "- **Hybrid cloud.** The cloud infrastructure is a composition of two or more distinct cloud infrastructures (private, community, or public) that remain unique entities, but are bound together by standardized or proprietary technology that enables data and application portability (e.g., cloud bursting for load balancing between clouds).\n"
   ]
  },
  {
   "cell_type": "markdown",
   "metadata": {},
   "source": [
    "## Requisitos de Máquina"
   ]
  },
  {
   "cell_type": "markdown",
   "metadata": {},
   "source": [
    "virtualbox: é difícil montar um cluster de máquinas\n",
    "\n",
    "core: core físico, sem hyperthread\n",
    "\n",
    "Um número típico de cores para uma máquina intel é de 4 a 6 cores (em cada socket, de 4 a 6 cores).\n",
    "Para rodar as cargas de processamento, vamos colocar um servidor ubuntu, com 2 GB. Podemos chegar até 3 máquinas virtuais; assumindo que alocamos 2 cores por máquina virtual, precisaria de 6 cores.\n",
    "\n",
    "Precisamos de 8 GB de RAM e 6 cores.\n",
    "\n",
    "Em computação em nuvem, tipicamente, há 4 máquinas virtuais para cada core físico. Colocando 1 máquina virtual por core, encareceria muito o custo para o cliente. Mas para nós no curso, é importante ter mais para podermos avaliar o que está acontecendo, para não termos influência negativa de uma máquina virtual em outra. Procuraremos colocar uma máquina virtual para cada core; e idealmente, fazer pinning: fixar uma máquina virtual para core (esse cenário, por questões comerciais, há 4 máquinas virtuais por core).\n"
   ]
  },
  {
   "cell_type": "markdown",
   "metadata": {},
   "source": [
    "### VirtualBox and Clustering\n",
    "\n",
    "1. **VirtualBox**: This is a software application that allows you to create and run virtual machines on your computer. A virtual machine (VM) is a software emulation of a physical computer.\n",
    "\n",
    "2. **Cluster of Machines**: In a cloud computing context, a cluster refers to a group of interconnected computers that work together as a single system. Creating a cluster of VMs can be complex because it involves configuring multiple VMs to communicate and cooperate effectively.\n",
    "\n",
    "### CPU and Cores\n",
    "\n",
    "1. **Core**: A core is a processing unit within a CPU. It is capable of executing instructions from a computer program. Modern CPUs often have multiple cores, allowing them to perform multiple tasks simultaneously.\n",
    "\n",
    "2. **Physical Core**: This refers to the actual hardware core in the CPU.\n",
    "\n",
    "3. **Hyperthreading**: This is a technology used by some Intel processors that allows a single physical core to act like two logical cores, which can improve performance for certain types of tasks. Your professor is specifying to use physical cores, not hyperthreaded ones.\n",
    "\n",
    "### Machine Requirements\n",
    "\n",
    "1. **Number of Cores**: Typical modern Intel CPUs have 4 to 6 cores per CPU socket. For the course, they suggest using 6 cores for running VMs.\n",
    "\n",
    "2. **RAM**: For running the VMs, 8 GB of RAM is recommended.\n",
    "\n",
    "### Virtual Machines (VMs)\n",
    "\n",
    "1. **Server Setup**: The course will use Ubuntu as the server operating system, with each VM allocated 2 GB of RAM.\n",
    "\n",
    "2. **Number of VMs**: You can create up to 3 VMs, each using 2 cores. This totals 6 cores for 3 VMs (2 cores per VM).\n",
    "\n",
    "### Cloud Computing and VM Allocation\n",
    "\n",
    "1. **VM to Core Ratio**: In a commercial cloud environment, it's common to have multiple VMs sharing a single physical core to optimize resource usage and reduce costs. Typically, there might be 4 VMs per physical core.\n",
    "\n",
    "2. **Course Setup**: For educational purposes, it's important to minimize interference between VMs. Therefore, your professor recommends using a 1-to-1 ratio (one VM per core) and ideally performing \"pinning,\" which means fixing each VM to a specific core to ensure stable performance and accurate monitoring.\n"
   ]
  },
  {
   "cell_type": "markdown",
   "metadata": {},
   "source": [
    "Requisitos:\n",
    "- Máquina Ubuntu 22.04/24.04 BARE METAL\n",
    "- 4/6 CORES\n",
    "- 8/16 GBYTES RAM\n",
    "- ESPAÇO DE 32GBYTES DISCO PARA AS VMS"
   ]
  },
  {
   "cell_type": "markdown",
   "metadata": {},
   "source": [
    "# VIRTUALIZAÇÃO, HYPERVISORS E KVM"
   ]
  },
  {
   "cell_type": "markdown",
   "metadata": {},
   "source": [
    "## Virtualização"
   ]
  },
  {
   "cell_type": "markdown",
   "metadata": {},
   "source": [
    "The simulation of the software or hardware upon which other software runs. This simulated environment is called a virtual machine.\n",
    "\n",
    "A methodology for emulation or abstraction of hardware resources that enables complete execution stacks including software applications to run on it.\n",
    "\n",
    "The use of an abstraction layer to simulate computing hardware so that multiple operating systems can run on a single computer.\n",
    "\n"
   ]
  },
  {
   "cell_type": "markdown",
   "metadata": {},
   "source": [
    "A mainframe is a large, powerful computer system primarily used by large organizations for critical applications, bulk data processing, and enterprise resource planning. Mainframes are known for their high reliability, scalability, and security, making them suitable for handling massive volumes of transactions and data.\n",
    "\n",
    "Eram caros; começou-se a estudar métodos para se ter o uso compartilhado dos recursos, também para instalação de mais de um sistema operacional. Queria-se colocar várias máquinas virtuais dentro do mainframe e, para cada máquina virtual, se ter um ambiente completamente isolado um do outro (se ter ambientes operacionais diferentes). Assim os diverso usuários poderiam executar seu trabalho de forma independente (sem interferência).\n",
    "\n",
    "Com o aparecimento de computadores menores, o interesse pela virtualização diminui (com a opção de computadores pessoais e uma máquina por usuário). Um retorno desse interesse veio na década de 90 com o aumento da capacidade computacional dos computadores (no caso, servidores).\n",
    "\n",
    "Houve outro boom no tópico quando se notou a possibilidade de implantar máquinas virtuais utilizando suporte de hardware. Desde 2010, há uma perda de desempenho dessas virtualizações clássicas em relação ao desempenho de virtualizações via **containers**.\n",
    "\n",
    "<img src=\"figs/aula02/taxonomy_of_virtualization.png\" alt=\"Taxonomy of Virtualization\" style=\"width:50%;\"/>\n",
    "\n",
    "Virtualization is the process of creating a virtual version of something, such as hardware platforms, storage devices, or network resources.\n",
    "\n",
    "**Categories of Virtualization**:\n",
    "   - **Execution Environment**:\n",
    "     - Virtualization of environments where processes run.\n",
    "   - **Storage**:\n",
    "     - Virtualization of storage devices.\n",
    "   - **Network**:\n",
    "     - Virtualization of network resources.\n",
    "\n",
    "Virtualization can be done at two primary levels: \n",
    "\n",
    "1. **Process Level**:\n",
    "   - **Technique**:\n",
    "     - **Emulation**:\n",
    "       - Creates an environment that mimics another system, allowing applications to run as if they are on the original hardware.\n",
    "     - **High-Level VM (Virtual Machine)**:\n",
    "       - Uses a high-level virtual machine to execute programs.\n",
    "     - **Multiprogramming**:\n",
    "       - Multiple programs run on a single processor by managing their execution.\n",
    "   - **Virtualization Model**:\n",
    "     - **Application**:\n",
    "       - Virtualization at the application level.\n",
    "     - **Programming Language**:\n",
    "       - Virtualization using programming languages.\n",
    "     - **Operating System**:\n",
    "       - Virtualization at the OS level.\n",
    "\n",
    "2. **System Level**:\n",
    "   - **Technique**:\n",
    "     - **Hardware-Assisted Virtualization**:\n",
    "       - Uses hardware features to improve the efficiency of virtualization.\n",
    "     - **Full Virtualization**:\n",
    "       - Complete simulation of the underlying hardware to run unmodified operating systems.\n",
    "     - **Paravirtualization**:\n",
    "       - A virtualization technique that presents a software interface to virtual machines that is similar, but not identical, to that of the underlying hardware.\n",
    "     - **Partial Virtualization**:\n",
    "       - Only some parts of the target environment are virtualized.\n",
    "   - **Virtualization Model**:\n",
    "     - **Hardware**:\n",
    "       - Virtualization at the hardware level.\n",
    "\n",
    "\n",
    "System Level: o foco maior é a virtualização do processador, mas há interesse na virtualização de outros itens (todo o entorno do processador é atualmente o gargalo do desempenho).\n",
    "\n",
    "\n",
    "\n"
   ]
  },
  {
   "cell_type": "markdown",
   "metadata": {},
   "source": [
    "#### Summary of \"Formal Requirements for Virtualizable Third Generation Architectures\" by Gerald J. Popek and Robert P. Goldberg\n",
    "\n",
    "The paper by Popek and Goldberg presents a formal analysis of the requirements for third generation computer architectures to support virtualization. The key contributions of the paper include defining what constitutes a virtual machine (VM), outlining the characteristics of a virtual machine monitor (VMM), and establishing the conditions under which a third generation architecture can support virtual machines.\n",
    "\n",
    "##### Key Concepts\n",
    "\n",
    "1. **Virtual Machine (VM)**: An efficient, isolated duplicate of a real machine, where programs running under a VM experience an environment identical to the real machine with only minor performance overhead.\n",
    "2. **Virtual Machine Monitor (VMM)**: A software layer that creates and manages virtual machines, providing an environment identical to the underlying hardware, maintaining control over system resources, and ensuring efficient execution of most instructions directly by the hardware.\n",
    "\n",
    "##### Formal Model\n",
    "\n",
    "- The authors develop a model of a third-generation-like computer system, specifying necessary assumptions about its behavior, state-space, and state transitions.\n",
    "- The model includes a processor with supervisor and user modes, relocation registers for memory addressing, and a set of conventional instructions.\n",
    "\n",
    "##### Conditions for Virtualization\n",
    "\n",
    "The paper establishes a critical condition for an architecture to support virtualization:\n",
    "- **Sensitive Instructions**: Instructions that can affect the hardware state in a way that could interfere with the operation of the VMM must be a subset of the privileged instructions. This ensures that any sensitive operation will trap to the VMM, allowing it to maintain control over system resources.\n",
    "\n",
    "##### Major Theorems\n",
    "\n",
    "1. **Theorem 1**: For any conventional third-generation computer, a VMM can be constructed if the set of sensitive instructions is a subset of the privileged instructions.\n",
    "2. **Theorem 2**: A conventional third generation computer is recursively virtualizable if it is virtualizable and a VMM without timing dependencies can be constructed for it.\n",
    "3. **Theorem 3**: A hybrid virtual machine monitor (HVM) can be constructed for any conventional third generation machine where user-sensitive instructions are a subset of privileged instructions.\n",
    "\n",
    "##### Practical Implications\n",
    "\n",
    "- The formal techniques provided in the paper can be applied to evaluate existing architectures and design new architectures to support virtualization.\n",
    "- The results have been used to modify existing systems, such as the DEC PDP-11/45, to support virtual machines.\n",
    "\n",
    "##### Conclusion\n",
    "\n",
    "The paper concludes that while the model captures essential aspects of third generation virtual machines, some simplifications were made for presentation purposes. Empirical evidence suggests that additional complexities, such as I/O operations and asynchronous events, can be integrated into the model. The formal techniques outlined may also be applied to newer architectures designed to support virtualization without traditional VMM overhead.\n"
   ]
  },
  {
   "cell_type": "markdown",
   "metadata": {},
   "source": [
    "Virtualization is a core technology used for the implementation of cloud computing. It increases the utilization of resources such as processor, storage, network etc. by collecting various underutilized resources available in the form of a shared pool of resources built through the creation of Virtual Machines (VMs).\n",
    "\n",
    "The requirements in cloud environment are dynamic therefore there is always a need to move virtual machines within the same cloud or amongst different clouds. This is achieved through migration of VMs which results in several benefits such as saving energy of the host, managing fault tolerance if some host is not working properly and load balancing among all hosts.\n",
    "\n",
    "Cloud is a parallel and distributed computing system consisting of a **collection of inter connected and virtualized computers that are dynamically provisioned and presented as one or more unified computing resources** based on service level agreement (SLA) established through negotiation between the service provider and consumers.\n",
    "\n",
    "Virtualization creates an abstract layer over the actual hardware and software. It emulates a physical machine in software to run multiple operating systems on single machine hardware. The main goal of virtualization is to utilize the maximum capacity of available resources such as processor, storage and network. By creating virtual machines, it collaborates multiple unutilized resources into a shared resource pool and utilizes them by performing different tasks simultaneously to fulfill multiple user demands. These resources can be scaled on virtual machines (i.e. allocated dynamically).\n",
    "\n",
    "There can be various types of virtualizations like -\n",
    "\n",
    "- **Application Virtualization** – In this, application/s including operating system of host machine is moved to the virtual environment. It is a technology in which the application is present somewhere else but is accessed by the client computer. The application behaves same as the local application on the client system. For example - VMWare Thinapp, Oracle secure Global desktop, etc.\n",
    "\n",
    "- **Storage Virtualization** – It provides a virtual storage environment by collecting or combining various physical storages. Through this, distributed storage is managed in such a way as if it is one consolidated storage. After this virtualization, the availability of storage increases because now the applications do not have limited or a specific resource. The storage can be updated any time without affecting the performance of the application.\n",
    "\n",
    "- **Server Virtualization** – In this, existing server is moved into a virtual environment i.e. hypervisor, which is hosted on a physical server. The resources of server are hidden from clients and the physical server is divided into multiple virtual environments. Web server virtualization is one of the most popular examples of this technology used for providing low cost web hosting services.\n",
    "\n",
    "- **Hardware Virtualization** – This virtualization makes hardware components of real machine as virtual components. This technology hides all the physical components and details of actual computing platform from end users.\n"
   ]
  },
  {
   "cell_type": "markdown",
   "metadata": {},
   "source": [
    "Virtualization is done by using a **hypervisor**, a software which acts as an intemediator between virtual machine and physical hardware. It is used to create virtual machines.\n",
    "\n",
    "The hypervisor manages virtual hardware and guest operating system on the said hardware on a virtual platform. Hypervisor can be native (Type-1) or Hosted (Type-2).\n",
    "\n",
    "Type-1 hypervisor layer comes before the Operating System and runs on hardware directly to manage the guest Operating System. This type of virtualization is known as full virtualization.\n",
    "\n",
    "Type-2 hypervisor requires host Operating System to run it and the guest operating Systems are then managed by the hypervisor. This type of virtualization is called Para-virtualization.\n",
    "\n",
    "\n",
    "<img src=\"figs/aula02/Type-1-and-Type-2-Hypervisor.png\" alt=\"Taxonomy of Virtualization\" style=\"width:50%;\"/>\n",
    "\n",
    "These\n",
    "resources can be allocated or de-allocated dynamically on VMs allowing a single physical host to be converted into number of virtual hosts. Each virtual host delivers a secure and isolated environment for applications. These environments can be customized in the form of software and hardware platform according to the demand."
   ]
  },
  {
   "cell_type": "markdown",
   "metadata": {},
   "source": [
    "O sistema que suporta a implantação de MV é o gerenciador (ou monitor) de MV; também chamado de Hypervisor. O Hypervisor pode rodar em cima:\n",
    "\n",
    "- da plataforma de hardware (solução bare metal, **Tipo 1**) \n",
    "- de outro sistema operacional (**Tipo 2**).\n",
    "\n"
   ]
  },
  {
   "cell_type": "markdown",
   "metadata": {},
   "source": [
    "Técnicas para Virtualização:\n",
    "\n",
    "- Complete Machine Emulation (Hosted Interpretation): É a mais poderosa de todas, permite a execução de código de qualquer processador na sua máquina, bastando que se tenha o emulador específico para aquele processador. Mas se precisa modelo do processador e olhar instrução por instrução (é muito lento). \n",
    "\n",
    "- Full Virtualization (Execução Direta): muito associada com hypervisor Tipo 1.\n",
    "\n",
    "    - Execução Direta com Trap-and-Emulate: nela, toda instrução que mexe com recursos sensíveis precisa ser executada de forma protegida. Gera-se problemas com x86.\n",
    "\n",
    "    - Execução Direta com Binary Translation: Exemplo: VMware's Dynamic Binary Translation. Faz simulação (não emulação). As instruções que são executadas a nível de usuário não requerem muito trabalho; já as execuções executadas a nível kernel (sistema operacional) requerem um software que traduz dinamicamente, sob demanda, as linhas de código para o código nativo do seu processador. A parte do código que não faz chamadas críticas é rodado rapidamente, em tempo de bare-metal (a execução vai direto pro processador). Mas a parte do código relacionada ao kernel roda mais devagar.\n",
    "\n",
    "    - Execução Direta com Hardware-Assisted Virtualization: Ex Hardware-Assisted CPU Virtualization (Intel VT-x). VT-x se refere ao processador, mas o desempenho depende de outros hardwares também. \n",
    "\n",
    "- Paravirtualization: Quando se necessita mudar o código para que ele fique ciente do virtualizador que se tem embaixo. O OS guest é recompilado sendo mapeado para o ambiente operacional para onde ele vá. A parte do usuário em si não precisa ser mudado (é jogado direto pra ser processado), precisando apenas mudar e mapear o código que roda a nível de kernel.\n",
    "\n",
    "Emulação: software executa instrução a instrução do arquivo.\n",
    "\n",
    "Um programa real possui uma fração que roda dentro do sistema operacional (operações de entrada e saída, por exemplo) e outras que usam a nível de usuário. Execução Direta com Binary Translation roda rapidamente a primeira, e faz uma tradução rápida para a segunda. "
   ]
  },
  {
   "cell_type": "markdown",
   "metadata": {},
   "source": [
    "Complete Machine Emulation:\n",
    "- VMM implementa a arquitetura completa do hardware em software.\n",
    "- O VMM segue as instruções da VM e atualiza o hardware emulado conforme necessário.\n",
    "- Pode lidar com todos os tipos de instruções, mas é muito lento.\n"
   ]
  },
  {
   "cell_type": "markdown",
   "metadata": {},
   "source": [
    "<span style=\"color:yellow;\">1h06</span>\n",
    "https://www.youtube.com/watch?v=BLpv0BZG3II"
   ]
  },
  {
   "cell_type": "markdown",
   "metadata": {},
   "source": [
    "In emulation, the Virtual Machine Monitor (VMM) provides hardware simulation, making it independent of the underlying system hardware. This is because emulation simulates the entire hardware environment, allowing the guest system to run regardless of the host system's hardware."
   ]
  },
  {
   "cell_type": "markdown",
   "metadata": {},
   "source": [
    "VirtualBox is an example of a Type-2 hypervisor, which runs on top of an existing operating system rather than directly on the hardware."
   ]
  },
  {
   "cell_type": "markdown",
   "metadata": {},
   "source": [
    "### Instalação do Virtual Machine Manager"
   ]
  },
  {
   "cell_type": "markdown",
   "metadata": {},
   "source": [
    "Seguindo o tutorial\n",
    "https://www.tecmint.com/install-qemu-kvm-ubuntu-create-virtual-machines/\n",
    "no meu PC."
   ]
  },
  {
   "cell_type": "markdown",
   "metadata": {},
   "source": [
    "alex@alex-inspiron:~$ egrep -c '(vmx|svm)' /proc/cpuinfo\n",
    "8\n",
    "\n",
    "Ou seja, há 8 cores disponíveis (mas pode haver hyperthreading). \n",
    "\n",
    "alex@alex-inspiron:~$ kvm-ok\n",
    "INFO: /dev/kvm exists\n",
    "KVM acceleration can be used\n",
    "\n",
    "/dev/kvm é a porta de entrada para o módulo KVM. Aí que o QEMU pede recursos\n",
    "\n",
    "alex@alex-inspiron:~$ sudo apt install qemu-kvm virt-manager virtinst libvirt-clients bridge-utils libvirt-daemon-system -y\n",
    "\n",
    "At this point, we have installed QEMU and all the essential virtualization packages. \n",
    "\n",
    "sudo systemctl enable --now libvirtd\n",
    "\n",
    "sudo systemctl start libvirtd\n",
    "\n",
    "alex@alex-inspiron:~$ sudo systemctl status libvirtd\n",
    "● libvirtd.service - Virtualization daemon\n",
    "     Loaded: loaded (/lib/systemd/system/libvirtd.service; enabled; vendor preset: enabled)\n",
    "     Active: active (running) since Wed 2024-06-26 19:34:17 -03; 13min ago\n",
    "TriggeredBy: ● libvirtd-ro.socket\n",
    "             ● libvirtd.socket\n",
    "             ● libvirtd-admin.socket\n",
    "       Docs: man:libvirtd(8)\n",
    "             https://libvirt.org\n",
    "   Main PID: 13661 (libvirtd)\n",
    "      Tasks: 21 (limit: 32768)\n",
    "     Memory: 10.7M\n",
    "        CPU: 651ms\n",
    "     CGroup: /system.slice/libvirtd.service\n",
    "             ├─13661 /usr/sbin/libvirtd\n",
    "             ├─13821 /usr/sbin/dnsmasq --conf-file=/var/lib/libvirt/dnsmasq/default.conf --leasefile-ro --dhcp-script=/usr/lib/libvirt/libvir>\n",
    "             └─13822 /usr/sbin/dnsmasq --conf-file=/var/lib/libvirt/dnsmasq/default.conf --leasefile-ro --dhcp-script=/usr/lib/libvirt/libvir>\n",
    "jun 26 19:34:17 alex-inspiron systemd[1]: Started Virtualization daemon.\n",
    "jun 26 19:34:18 alex-inspiron dnsmasq[13821]: started, version 2.90 cachesize 150\n",
    "jun 26 19:34:18 alex-inspiron dnsmasq[13821]: compile time options: IPv6 GNU-getopt DBus no-UBus i18n IDN2 DHCP DHCPv6 no-Lua TFTP conntrack >\n",
    "jun 26 19:34:18 alex-inspiron dnsmasq-dhcp[13821]: DHCP, IP range 192.168.122.2 -- 192.168.122.254, lease time 1h\n",
    "jun 26 19:34:18 alex-inspiron dnsmasq-dhcp[13821]: DHCP, sockets bound exclusively to interface virbr0\n",
    "jun 26 19:34:18 alex-inspiron dnsmasq[13821]: reading /etc/resolv.conf\n",
    "jun 26 19:34:18 alex-inspiron dnsmasq[13821]: using nameserver 127.0.0.53#53\n",
    "jun 26 19:34:18 alex-inspiron dnsmasq[13821]: read /etc/hosts - 8 names\n",
    "jun 26 19:34:18 alex-inspiron dnsmasq[13821]: read /var/lib/libvirt/dnsmasq/default.addnhosts - 0 names\n",
    "jun 26 19:34:18 alex-inspiron dnsmasq-dhcp[13821]: read /var/lib/libvirt/dnsmasq/default.hostsfile\n",
    "\n",
    "From the output above, the libvirtd daemon is up and running as expected. \n",
    "\n",
    "sudo usermod -aG kvm $USER\n",
    "\n",
    "sudo usermod -aG libvirt $USER\n",
    "\n",
    "The next step is to launch the QEMU/KVM GUI tool which is the Virtual Machine Manager.\n",
    "\n",
    "sudo virt-manager\n",
    "\n",
    "Um novo programa \"Virtual Machine Manager\" pops up. From here, you can start creating and managing virtual machines."
   ]
  },
  {
   "cell_type": "markdown",
   "metadata": {},
   "source": [
    "Instalei o Ubuntu Server 22.0 nesse Virtual Machine Manager"
   ]
  },
  {
   "cell_type": "markdown",
   "metadata": {},
   "source": [
    "### Ubuntu Server 22.0"
   ]
  },
  {
   "cell_type": "markdown",
   "metadata": {},
   "source": [
    "<img src=\"figs/aula02/cpu.png\" alt=\"IaaS, PaaS, and SaaS Comparison\" style=\"width:50%;\"/>\n",
    "\n",
    "#### Sysbench CPU Benchmark Results\n",
    "\n",
    "##### Test Configuration\n",
    "- **Sysbench Version**: 1.0.20 (using system LuaJIT 2.1.0-beta3)\n",
    "- **Number of Threads**: 1\n",
    "- **Prime Numbers Limit**: 10000\n",
    "\n",
    "##### CPU Speed\n",
    "- **Events Per Second**: 1049.97\n",
    "\n",
    "The CPU handled 1049.97 events per second, which indicates the performance of the CPU in processing the workload.\n",
    "\n",
    "##### General Statistics\n",
    "- **Total Time**: 10.0006 seconds\n",
    "- **Total Number of Events**: 10502\n",
    "\n",
    "The total time for the test was approximately 10 seconds. The CPU processed a total of 10502 events during the test.\n",
    "\n",
    "##### Latency (milliseconds)\n",
    "- **Minimum**: 0.94 ms\n",
    "- **Average**: 0.95 ms\n",
    "- **Maximum**: 3.18 ms\n",
    "- **95th Percentile**: 1.01 ms\n",
    "- **Sum**: 9990.28 ms\n",
    "\n",
    "##### Threads Fairness\n",
    "- **Events (avg/stddev)**: 10502.0000/0.00\n",
    "- **Execution Time (avg/stddev)**: 9.9903/0.00 seconds\n",
    "\n",
    "The average and standard deviation of events processed by the thread were 10502.0000 and 0.00, respectively, indicating consistent performance.\n",
    "\n",
    "The average execution time was 9.9903 seconds with no deviation, showing uniformity in execution time across the test.\n",
    "\n",
    "These results provide an overview of the CPU's performance under the given test conditions, highlighting its event processing capability and latency metrics.\n",
    "\n",
    "\n",
    "\n",
    "<img src=\"figs/aula02/memory.png\" alt=\"IaaS, PaaS, and SaaS Comparison\" style=\"width:50%;\"/>\n",
    "\n",
    "The memory test performed 44,148,636 operations, with an average rate of 4,414,078.59 operations per second.\n",
    "\n",
    "A total of 43,113.90 MiB of data was transferred, with an average transfer rate of 4,310.62 MiB/sec.\n",
    "\n",
    "These results provide an overview of the memory performance under the given test conditions, highlighting the operations per second and data transfer rates, along with latency metrics.\n",
    "\n",
    "The total time for the test was approximately 10 seconds. The CPU handled 44,148,636 events during the test.\n",
    "\n",
    "\n",
    "<img src=\"figs/aula02/fileio.png\" alt=\"IaaS, PaaS, and SaaS Comparison\" style=\"width:50%;\"/>\n",
    "\n",
    "The test performed 0 reads per second as it was a sequential write test. The test performed 979.05 writes per second. The test performed 1259.57 fsyncs per second.\n",
    "\n",
    "The read throughput was 0.00 MiB/s because the test did not involve reading operations. The write throughput was 15.30 MiB/s, indicating the rate at which data was written to the files.\n",
    "\n",
    "The average and standard deviation of events processed by the thread were 22,280.0000 and 0.00, respectively, indicating consistent performance. The average execution time was 9.9463 seconds with no deviation, showing uniformity in execution time across the test. These results provide an overview of the file I/O performance under the given test conditions, highlighting the write operations, throughput, and latency metrics.\n",
    "\n"
   ]
  },
  {
   "cell_type": "markdown",
   "metadata": {},
   "source": []
  }
 ],
 "metadata": {
  "language_info": {
   "name": "python"
  }
 },
 "nbformat": 4,
 "nbformat_minor": 2
}
