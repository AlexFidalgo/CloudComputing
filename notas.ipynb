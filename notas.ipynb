{
 "cells": [
  {
   "cell_type": "markdown",
   "metadata": {},
   "source": [
    "# Visão Geral dos Conceitos de Nuvem"
   ]
  },
  {
   "cell_type": "markdown",
   "metadata": {},
   "source": [
    "Computação em Nuvem é a entrega <span style=\"color:brown;\">sob demanda</span> de <span style=\"color:yellow;\">poder computacional</span>, <span style=\"color:yellow;\">banco de dados</span>, <span style=\"color:yellow;\">armazenamento</span>, <span style=\"color:yellow;\">aplicativos</span> e outros recursos de TI <span style=\"color:brown;\">pela internet</span> com uma definição de <span style=\"color:brown;\">preço conforme o uso</span>.\n",
    "\n",
    "Permite que a organização deixe de pensar na infraestrutura como hardware e passe a pensar nela (e usá-la) como software.\n",
    "\n",
    "No modelo de computação tradicional, a infraestrutura é hardware. Isso exige espaço, equipe, segurança física, planejamento, despesas de capital e provisionamento de capacidade por meio de tentativa de adivinhar os picos máximos teóricos. Existe um ciclo longo de aquisição de hardware. \n",
    "\n",
    "Já no modelo de computação em nuvem, a infraestrutura é software. As soluções são flexíveis, podem mudar com mais rapidez, facilidade e economia do que as soluções de hardware e eliminam as tarefas monolíticas de trabalho pesado."
   ]
  },
  {
   "cell_type": "markdown",
   "metadata": {},
   "source": [
    "<img src=\"figs/aula01/iaas_saas_paas.png\" alt=\"IaaS, PaaS, and SaaS Comparison\" style=\"width:40%;\"/>\n"
   ]
  },
  {
   "cell_type": "markdown",
   "metadata": {},
   "source": [
    "- **Public**: This model represents the use of cloud services provided by third-party cloud service providers. All the infrastructure and services are managed by the provider, and the user can access and utilize these resources over the internet. It offers scalability, flexibility, and a pay-as-you-go pricing model.\n",
    "\n",
    "- **Hybrid**: This model combines both cloud and on-premises infrastructure. It allows data and applications to be shared between them, providing greater flexibility and more deployment options. This approach can help businesses balance between having control over critical data and leveraging the benefits of cloud computing.\n",
    "\n",
    "- **Private**: In this model, the cloud infrastructure is hosted within an organization’s own data center. It offers greater control over data, enhanced security, and compliance with regulatory requirements. This is ideal for organizations that have stringent data privacy needs and require complete control over their IT environment."
   ]
  },
  {
   "cell_type": "markdown",
   "metadata": {},
   "source": [
    "<img src=\"figs/aula01/aws.png\" alt=\"IaaS, PaaS, and SaaS Comparison\" style=\"width:70%;\"/>\n",
    "\n",
    "\n",
    "### Security\n",
    "- **Traditional IT:**\n",
    "  - **Firewalls:** Used to protect the network from unauthorized access.\n",
    "  - **ACLs:** Access Control Lists used to manage user permissions.\n",
    "  - **Administradores:** Administrators who manage security policies and configurations.\n",
    "- **AWS:**\n",
    "  - **Grupos de segurança (Security Groups):** Control the inbound and outbound traffic to AWS resources.\n",
    "  - **ACLs de rede (Network ACLs):** Provide an additional layer of security at the subnet level.\n",
    "  - **IAM:** Identity and Access Management to control user permissions and access to AWS resources.\n",
    "\n",
    "### Networking\n",
    "- **Traditional IT:**\n",
    "  - **Roteador (Router):** Directs data packets between networks.\n",
    "  - **Pipeline de rede (Network Pipeline):** Manages the flow of data in and out of the network.\n",
    "  - **Switch:** Connects devices within the same network to enable communication.\n",
    "- **AWS:**\n",
    "  - **Elastic Load Balancing:** Distributes incoming application traffic across multiple targets.\n",
    "  - **Amazon VPC:** Virtual Private Cloud to provision a logically isolated section of the AWS cloud.\n",
    "\n",
    "### Compute\n",
    "- **Traditional IT:**\n",
    "  - **Servidores locais (Local Servers):** Physical servers hosted on-premises.\n",
    "- **AWS:**\n",
    "  - **AMI:** Amazon Machine Images to launch virtual servers.\n",
    "  - **Instâncias do Amazon EC2:** Virtual servers in the cloud providing scalable computing capacity.\n",
    "\n",
    "### Storage and Databases\n",
    "- **Traditional IT:**\n",
    "  - **DAS (Direct-Attached Storage):** Storage directly attached to the server.\n",
    "  - **SAN (Storage Area Network):** High-speed network of storage devices.\n",
    "  - **NAS (Network-Attached Storage):** Dedicated file storage connected to a network.\n",
    "  - **RDBMS (Relational Database Management Systems):** Databases hosted on-premises.\n",
    "- **AWS:**\n",
    "  - **Amazon EBS:** Elastic Block Store for persistent block storage.\n",
    "  - **Amazon EFS:** Elastic File System for scalable file storage.\n",
    "  - **Amazon S3:** Simple Storage Service for scalable object storage.\n",
    "  - **Amazon RDS:** Relational Database Service for managed relational databases.\n"
   ]
  },
  {
   "cell_type": "markdown",
   "metadata": {},
   "source": [
    "Using a cloud solution often represents a shift from Capital Expenditure (CapEx) to Operational Expenditure (OpEx).\n",
    "\n",
    "Devido ao uso agregado de todos os clientes, a AWS pode proporcionar grande economia de escala e repassar os descontos para os clientes.\n",
    "\n",
    "<img src=\"figs/aula01/scalability.png\" alt=\"IaaS, PaaS, and SaaS Comparison\" style=\"width:70%;\"/>"
   ]
  },
  {
   "cell_type": "markdown",
   "metadata": {},
   "source": [
    "## Introdução à Amazon Web Services"
   ]
  },
  {
   "cell_type": "markdown",
   "metadata": {},
   "source": [
    "Um <span style=\"color: #5a2ca0;\">serviço web</span> é qualquer software disponibilizado pela Internet que usa um <span style=\"color: #5a2ca0;\">formato padronizado</span>, como Extensible Markup Language (XML) ou JavaScript Object Notation (JSON), para a solicitação e resposta de uma interação de <span style=\"color: #5a2ca0;\">Application Programming Interface (API)</span>.\n",
    "\n",
    "O pagamento se dá apenas pelos serviços individuais necessários, pelo tempo de utilização.\n"
   ]
  },
  {
   "cell_type": "markdown",
   "metadata": {},
   "source": [
    "### Exemplo de Solução"
   ]
  },
  {
   "cell_type": "markdown",
   "metadata": {},
   "source": [
    "<img src=\"figs/aula01/sol1.png\" alt=\"IaaS, PaaS, and SaaS Comparison\" style=\"width:50%;\"/>\n",
    "\n",
    "1. **Usuários (Users)**\n",
    "   - **Users**: Represent the end-users who interact with the application or services hosted on the AWS cloud.\n",
    "\n",
    "2. **Nuvem AWS (AWS Cloud)**\n",
    "   - **AWS Cloud**: The overall cloud environment provided by Amazon Web Services (AWS).\n",
    "\n",
    "3. **Virtual Private Cloud (VPC)**\n",
    "   - **Virtual Private Cloud (VPC)**: A logically isolated section of the AWS cloud where you can launch AWS resources in a virtual network that you define. It provides complete control over the virtual networking environment, including selection of your IP address range, creation of subnets, and configuration of route tables and network gateways.\n",
    "\n",
    "4. **Amazon EC2**\n",
    "   - **Amazon EC2 (Elastic Compute Cloud)**: Provides resizable compute capacity in the cloud. It allows you to run virtual servers, known as instances, to host your applications and services.\n",
    "\n",
    "5. **Amazon DynamoDB**\n",
    "   - **Amazon DynamoDB**: A fully managed NoSQL database service that provides fast and predictable performance with seamless scalability. It is used to store and retrieve any amount of data, and serve any level of request traffic.\n",
    "\n",
    "6. **Amazon S3**\n",
    "   - **Amazon S3 (Simple Storage Service)**: An object storage service that offers industry-leading scalability, data availability, security, and performance. It is used to store and protect any amount of data for a range of use cases, such as data lakes, websites, mobile applications, backup and restore, archive, enterprise applications, IoT devices, and big data analytics.\n",
    "\n",
    "- **Users** interact with the application through the **Nuvem AWS (AWS Cloud)**.\n",
    "- **Virtual Private Cloud (VPC)** acts as the main networking component, isolating the environment and controlling network traffic.\n",
    "- **Amazon EC2** instances run within the VPC and handle the compute workload.\n",
    "- **Amazon DynamoDB** is used for database storage, interacting with EC2 instances to handle data operations.\n",
    "- **Amazon S3** is used for storing and retrieving files and objects, providing durable and scalable storage.\n",
    "- The components are interconnected within the VPC, ensuring secure and efficient communication between the services.\n",
    "\n",
    "- **Redes (Networking)**\n",
    "  - Includes services like VPC which provides networking capabilities.\n",
    "- **Computação (Compute)**\n",
    "  - Includes services like Amazon EC2 which provide computing power.\n",
    "- **Banco de dados (Database)**\n",
    "  - Includes services like Amazon DynamoDB for database management.\n",
    "- **Armazenamento (Storage)**\n",
    "  - Includes services like Amazon S3 for object storage.\n",
    "\n",
    "This simple solution example demonstrates how different AWS services can be combined to create a secure, scalable, and efficient cloud infrastructure. The interaction between compute, database, and storage services within a Virtual Private Cloud (VPC) ensures that the application can handle various workloads and provide reliable service to end-users.\n"
   ]
  },
  {
   "cell_type": "markdown",
   "metadata": {},
   "source": [
    "### Três maneiras de interagir com a AWS\n",
    "\n",
    "1. **Console de Gerenciamento da AWS**\n",
    "   - Interface gráfica fácil de usar\n",
    "   - Provides a user-friendly graphical interface to interact with AWS services.\n",
    "\n",
    "2. **Interface da linha de comando (CLI da AWS)**\n",
    "   - Acesso a serviços por comandos ou scripts específicos\n",
    "   - Allows access to AWS services using command line commands or specific scripts.\n",
    "\n",
    "3. **Kits de desenvolvimento de software (SDKs)**\n",
    "   - Acesse serviços diretamente do seu código (como Java, Python e outros)\n",
    "   - Enables access to AWS services directly from your code in various programming languages like Java, Python, and others."
   ]
  },
  {
   "cell_type": "markdown",
   "metadata": {},
   "source": [
    "####  AWS Cloud Adoption Framework (CAF)"
   ]
  },
  {
   "cell_type": "markdown",
   "metadata": {},
   "source": [
    "O AWS CAF oferece orientação e melhores práticas para ajudar as organizações a criar uma abordagem abrangente para a computação em nuvem em toda a organização e durante todo o ciclo de vida de TI para acelerar a adoção bem-sucedida da nuvem."
   ]
  },
  {
   "cell_type": "markdown",
   "metadata": {},
   "source": [
    "## The NIST Definition of Cloud Computing"
   ]
  },
  {
   "cell_type": "markdown",
   "metadata": {},
   "source": [
    "Cloud computing is a model for enabling ubiquitous, convenient, on-demand network access to a shared pool of configurable computing resources (e.g., networks, servers, storage, applications, and services) that can be rapidly provisioned and released with minimal management effort or service provider interaction. This cloud model is composed of five essential characteristics, three service models, and four deployment models."
   ]
  },
  {
   "cell_type": "markdown",
   "metadata": {},
   "source": [
    "### Essential Characteristics:\n",
    "\n",
    "- **On-demand self-service.** A consumer can unilaterally provision computing capabilities, such as server time and network storage, as needed automatically without requiring human interaction with each service provider.\n",
    "\n",
    "- **Broad network access.** Capabilities are available over the network and accessed through standard mechanisms that promote use by heterogeneous thin or thick client platforms (e.g., mobile phones, tablets, laptops, and workstations).\n",
    "\n",
    "- **Resource pooling.** The provider’s computing resources are pooled to serve multiple consumers using a multi-tenant model, with different physical and virtual resources dynamically assigned and reassigned according to consumer demand. There is a sense of location independence in that the customer generally has no control or knowledge over the exact location of the provided resources but may be able to specify location at a higher level of abstraction (e.g., country, state, or datacenter). Examples of resources include storage, processing, memory, and network bandwidth.\n",
    "\n",
    "- **Rapid elasticity.** Capabilities can be elastically provisioned and released, in some cases automatically, to scale rapidly outward and inward commensurate with demand. To the consumer, the capabilities available for provisioning often appear to be unlimited and can be appropriated in any quantity at any time.\n",
    "\n",
    "- **Measured service.** Cloud systems automatically control and optimize resource use by leveraging a metering capability at some level of abstraction appropriate to the type of service (e.g., storage, processing, bandwidth, and active user accounts). Resource usage can be monitored, controlled, and reported, providing transparency for both the provider and consumer of the utilized service.\n"
   ]
  },
  {
   "cell_type": "markdown",
   "metadata": {},
   "source": [
    "### Service Models\n",
    "\n",
    "#### Software as a Service (SaaS)\n",
    "The capability provided to the consumer is to use the provider’s applications running on a cloud infrastructure. The applications are accessible from various client devices through either a thin client interface, such as a web browser (e.g., web-based email), or a program interface. The consumer does not manage or control the underlying cloud infrastructure including network, servers, operating systems, storage, or even individual application capabilities, with the possible exception of limited user-specific application configuration settings.\n",
    "\n",
    "A cloud infrastructure is the collection of hardware and software that enables the five essential characteristics of cloud computing. The cloud infrastructure can be viewed as containing both a physical layer and an abstraction layer. The physical layer consists of the hardware resources that are necessary to support the cloud services being provided, and typically includes server, storage and network components. The abstraction layer consists of the software deployed across the physical layer, which manifests the essential cloud characteristics. Conceptually the abstraction layer sits above the physical layer.\n",
    "\n",
    "#### Platform as a Service (PaaS)\n",
    "\n",
    "The capability provided to the consumer is to deploy onto the cloud infrastructure consumer-created or acquired applications created using programming languages, libraries, services, and tools supported by the provider (this capability does not necessarily preclude the use of compatible programming languages, libraries, services, and tools from\n",
    "other sources). The consumer does not manage or control the underlying cloud infrastructure including network, servers, operating systems, or storage, but has control over the deployed applications and possibly configuration settings for the application-hosting environment.\n",
    "\n",
    "#### Infrastructure as a Service (IaaS)\n",
    "\n",
    "The capability provided to the consumer is to provision processing, storage, networks, and other fundamental computing resources where the consumer is able to deploy and run arbitrary software, which can include operating systems and applications. The consumer does not manage or control the underlying cloud infrastructure but has control over operating systems, storage, and deployed applications; and possibly limited control of select networking components (e.g., host firewalls)."
   ]
  },
  {
   "cell_type": "markdown",
   "metadata": {},
   "source": [
    "### Deployment Models\n",
    "\n",
    "- **Private cloud.** The cloud infrastructure is provisioned for exclusive use by a single organization comprising multiple consumers (e.g., business units). It may be owned, managed, and operated by the organization, a third party, or some combination of them, and it may exist on or off premises.\n",
    "\n",
    "- **Community cloud.** The cloud infrastructure is provisioned for exclusive use by a specific community of consumers from organizations that have shared concerns (e.g., mission, security requirements, policy, and compliance considerations). It may be owned, managed, and operated by one or more of the organizations in the community, a third party, or some combination of them, and it may exist on or off premises.\n",
    "\n",
    "- **Public cloud.** The cloud infrastructure is provisioned for open use by the general public. It may be owned, managed, and operated by a business, academic, or government organization, or some combination of them. It exists on the premises of the cloud provider.\n",
    "\n",
    "- **Hybrid cloud.** The cloud infrastructure is a composition of two or more distinct cloud infrastructures (private, community, or public) that remain unique entities, but are bound together by standardized or proprietary technology that enables data and application portability (e.g., cloud bursting for load balancing between clouds).\n"
   ]
  },
  {
   "cell_type": "markdown",
   "metadata": {},
   "source": [
    "## Requisitos de Máquina"
   ]
  },
  {
   "cell_type": "markdown",
   "metadata": {},
   "source": [
    "virtualbox: é difícil montar um cluster de máquinas\n",
    "\n",
    "core: core físico, sem hyperthread\n",
    "\n",
    "Um número típico de cores para uma máquina intel é de 4 a 6 cores (em cada socket, de 4 a 6 cores).\n",
    "Para rodar as cargas de processamento, vamos colocar um servidor ubuntu, com 2 GB. Podemos chegar até 3 máquinas virtuais; assumindo que alocamos 2 cores por máquina virtual, precisaria de 6 cores.\n",
    "\n",
    "Precisamos de 8 GB de RAM e 6 cores.\n",
    "\n",
    "Em computação em nuvem, tipicamente, há 4 máquinas virtuais para cada core físico. Colocando 1 máquina virtual por core, encareceria muito o custo para o cliente. Mas para nós no curso, é importante ter mais para podermos avaliar o que está acontecendo, para não termos influência negativa de uma máquina virtual em outra. Procuraremos colocar uma máquina virtual para cada core; e idealmente, fazer pinning: fixar uma máquina virtual para core (esse cenário, por questões comerciais, há 4 máquinas virtuais por core).\n"
   ]
  },
  {
   "cell_type": "markdown",
   "metadata": {},
   "source": [
    "### VirtualBox and Clustering\n",
    "\n",
    "1. **VirtualBox**: This is a software application that allows you to create and run virtual machines on your computer. A virtual machine (VM) is a software emulation of a physical computer.\n",
    "\n",
    "2. **Cluster of Machines**: In a cloud computing context, a cluster refers to a group of interconnected computers that work together as a single system. Creating a cluster of VMs can be complex because it involves configuring multiple VMs to communicate and cooperate effectively.\n",
    "\n",
    "### CPU and Cores\n",
    "\n",
    "1. **Core**: A core is a processing unit within a CPU. It is capable of executing instructions from a computer program. Modern CPUs often have multiple cores, allowing them to perform multiple tasks simultaneously.\n",
    "\n",
    "2. **Physical Core**: This refers to the actual hardware core in the CPU.\n",
    "\n",
    "3. **Hyperthreading**: This is a technology used by some Intel processors that allows a single physical core to act like two logical cores, which can improve performance for certain types of tasks. Your professor is specifying to use physical cores, not hyperthreaded ones.\n",
    "\n",
    "### Machine Requirements\n",
    "\n",
    "1. **Number of Cores**: Typical modern Intel CPUs have 4 to 6 cores per CPU socket. For the course, they suggest using 6 cores for running VMs.\n",
    "\n",
    "2. **RAM**: For running the VMs, 8 GB of RAM is recommended.\n",
    "\n",
    "### Virtual Machines (VMs)\n",
    "\n",
    "1. **Server Setup**: The course will use Ubuntu as the server operating system, with each VM allocated 2 GB of RAM.\n",
    "\n",
    "2. **Number of VMs**: You can create up to 3 VMs, each using 2 cores. This totals 6 cores for 3 VMs (2 cores per VM).\n",
    "\n",
    "### Cloud Computing and VM Allocation\n",
    "\n",
    "1. **VM to Core Ratio**: In a commercial cloud environment, it's common to have multiple VMs sharing a single physical core to optimize resource usage and reduce costs. Typically, there might be 4 VMs per physical core.\n",
    "\n",
    "2. **Course Setup**: For educational purposes, it's important to minimize interference between VMs. Therefore, your professor recommends using a 1-to-1 ratio (one VM per core) and ideally performing \"pinning,\" which means fixing each VM to a specific core to ensure stable performance and accurate monitoring.\n"
   ]
  },
  {
   "cell_type": "markdown",
   "metadata": {},
   "source": [
    "Requisitos:\n",
    "- Máquina Ubuntu 22.04/24.04 BARE METAL\n",
    "- 4/6 CORES\n",
    "- 8/16 GBYTES RAM\n",
    "- ESPAÇO DE 32GBYTES DISCO PARA AS VMS"
   ]
  },
  {
   "cell_type": "markdown",
   "metadata": {},
   "source": [
    "# VIRTUALIZAÇÃO, HYPERVISORS E KVM"
   ]
  },
  {
   "cell_type": "markdown",
   "metadata": {},
   "source": [
    "A mainframe is a large, powerful computer system primarily used by large organizations for critical applications, bulk data processing, and enterprise resource planning. Mainframes are known for their high reliability, scalability, and security, making them suitable for handling massive volumes of transactions and data."
   ]
  },
  {
   "cell_type": "markdown",
   "metadata": {},
   "source": []
  }
 ],
 "metadata": {
  "language_info": {
   "name": "python"
  }
 },
 "nbformat": 4,
 "nbformat_minor": 2
}
