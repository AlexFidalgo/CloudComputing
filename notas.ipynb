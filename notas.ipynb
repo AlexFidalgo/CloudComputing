{
 "cells": [
  {
   "cell_type": "markdown",
   "metadata": {},
   "source": [
    "# Visão Geral dos Conceitos de Nuvem"
   ]
  },
  {
   "cell_type": "markdown",
   "metadata": {},
   "source": [
    "Computação em Nuvem é a entrega <span style=\"color:brown;\">sob demanda</span> de <span style=\"color:yellow;\">poder computacional</span>, <span style=\"color:yellow;\">banco de dados</span>, <span style=\"color:yellow;\">armazenamento</span>, <span style=\"color:yellow;\">aplicativos</span> e outros recursos de TI <span style=\"color:brown;\">pela internet</span> com uma definição de <span style=\"color:brown;\">preço conforme o uso</span>.\n",
    "\n",
    "Permite que a organização deixe de pensar na infraestrutura como hardware e passe a pensar nela (e usá-la) como software.\n",
    "\n",
    "No modelo de computação tradicional, a infraestrutura é hardware."
   ]
  }
 ],
 "metadata": {
  "language_info": {
   "name": "python"
  }
 },
 "nbformat": 4,
 "nbformat_minor": 2
}
