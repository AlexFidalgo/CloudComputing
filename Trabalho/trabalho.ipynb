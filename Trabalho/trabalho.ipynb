{
 "cells": [
  {
   "cell_type": "markdown",
   "metadata": {},
   "source": [
    "# Parte 1"
   ]
  },
  {
   "cell_type": "markdown",
   "metadata": {},
   "source": [
    "Implante um servidor web em um cluster KUBERNETES com auto-escalamento horizontal automático.\n",
    "\n",
    "Pede- se duas implantações:\n",
    "- Cluster Kubernetes usando minikube\n",
    "- Cluster AWS EKS\n",
    "\n",
    "Entregas\n",
    "- Roteiros de implantação e teste\n",
    "- Códigos comentados\n",
    "- Telas\n",
    "- Artigo formato SBC ou IEEE\n",
    "- Repositório GITHUB\n",
    "\n",
    "Apresente um problema e discuta criticamente as implantações. Exemplo de título: técnicas de auto-escalonamento. Procure teses sobre load balancing. Na introdução, diga onde está sua contribuição. Máximo de 12 páginas."
   ]
  },
  {
   "cell_type": "markdown",
   "metadata": {},
   "source": [
    "## Horizontal Pod Autoscaler - Minikube\n",
    "\n"
   ]
  },
  {
   "cell_type": "markdown",
   "metadata": {},
   "source": [
    "https://kubernetes.io/docs/tasks/run-application/horizontal-pod-autoscale-walkthrough/"
   ]
  },
  {
   "cell_type": "markdown",
   "metadata": {},
   "source": [
    "A HorizontalPodAutoscaler (HPA) automatically updates a workload resource (such as a Deployment or StatefulSet), with the aim of automatically scaling the workload to match demand.\n",
    "\n",
    "Both **Deployment** and **StatefulSet** are types of workload resources used to manage the lifecycle of applications. Stateless applications do not retain any client data (or \"state\") between requests. Each request from a client is treated as an independent transaction that is unrelated to any previous request. Stateful applications maintain state across client interactions; this means that they remember previous interactions and use this information to influence future interactions.\n",
    "\n",
    "**Deployment:** Suitable for stateless applications like web servers, APIs, or other services where any instance of the application can handle incoming requests.\n",
    "**StatefulSet:** Suitable for databases, distributed systems like Kafka or Cassandra, or any application where each instance needs to maintain its state across restarts.\n",
    "\n",
    "Horizontal scaling means that the response to increased load is to deploy more Pods. Vertical scaling means assigning more resources (for example: memory or CPU) to the Pods that are already running for the workload.\n",
    "\n",
    "If the load decreases, and the number of Pods is above the configured minimum, the HorizontalPodAutoscaler instructs the workload resource (the Deployment, StatefulSet, or other similar resource) to scale back down."
   ]
  },
  {
   "cell_type": "markdown",
   "metadata": {},
   "source": [
    "Apache HTTP Server, commonly referred to as Apache httpd or simply Apache, is an open-source web server software. Apache is widely used by web hosting providers to serve websites and web applications. Apache listens for incoming HTTP requests on specified ports (usually port 80 for HTTP and port 443 for HTTPS) and processes these requests to serve the requested web pages or resources."
   ]
  },
  {
   "cell_type": "markdown",
   "metadata": {},
   "source": [
    "Before you begin, you need to have a Kubernetes cluster, and the kubectl command-line tool must be configured to communicate with your cluster. It is recommended to run this tutorial on a cluster with at least two nodes that are not acting as control plane hosts. Your Kubernetes server must be at or later than version 1.23. You also need to use a cluster that has a Metrics Server deployed and configured. "
   ]
  },
  {
   "cell_type": "markdown",
   "metadata": {},
   "source": [
    "Segui o tutorial de instalação do minikube no meu PC local.\n",
    "\n",
    "```sh\n",
    "alex@alex-inspiron:~$ minikube status\n",
    "minikube\n",
    "type: Control Plane\n",
    "host: Running\n",
    "kubelet: Running\n",
    "apiserver: Running\n",
    "kubeconfig: Configured\n",
    "\n",
    "alex@alex-inspiron:~$ kubectl get nodes\n",
    "NAME       STATUS   ROLES           AGE   VERSION\n",
    "minikube   Ready    control-plane   19m   v1.30.0\n",
    "\n",
    "alex@alex-inspiron:~$ minikube stop\n",
    "✋  Stopping node \"minikube\"  ...\n",
    "🛑  Powering off \"minikube\" via SSH ...\n",
    "🛑  1 node stopped.\n",
    "\n",
    "```\n",
    "\n",
    "```sh\n",
    "minikube start --nodes=2\n",
    "\n",
    "❗  You cannot change the number of nodes for an existing minikube cluster. Please use 'minikube node add' to add nodes to an existing cluster.\n",
    "```\n",
    "Metrics server is enabled (I enabled it right after installing), so I don't need to enable it again.\n",
    "\n",
    "```sh\n",
    "alex@alex-inspiron:~$ kubectl get nodes\n",
    "NAME       STATUS   ROLES           AGE   VERSION\n",
    "minikube   Ready    control-plane   27m   v1.30.0\n",
    "alex@alex-inspiron:~$ minikube node add\n",
    "😄  Adding node m02 to cluster minikube as [worker]\n",
    "❗  Cluster was created without any CNI, adding a node to it might cause broken networking.\n",
    "👍  Starting \"minikube-m02\" worker node in \"minikube\" cluster\n",
    "🚜  Pulling base image v0.0.44 ...\n",
    "🔥  Creating docker container (CPUs=2, Memory=2200MB) ...\n",
    "🐳  Preparing Kubernetes v1.30.0 on Docker 26.1.1 ...\n",
    "🔎  Verifying Kubernetes components...\n",
    "🏄  Successfully added m02 to minikube!\n",
    "alex@alex-inspiron:~$ kubectl get nodes\n",
    "NAME           STATUS   ROLES           AGE   VERSION\n",
    "minikube       Ready    control-plane   28m   v1.30.0\n",
    "minikube-m02   Ready    <none>          13s   v1.30.0\n",
    "```\n",
    "\n",
    "You now have a multi-node setup, with `minikube` as the control-plane node and `minikube-m02` as a worker node. In Kubernetes, when you create a node using Minikube, it may not automatically assign the role as `worker` for nodes added to the cluster. Instead, they appear with the role `<none>`. This is typical behavior in Minikube, as it doesn't automatically label nodes with specific roles like `worker` or `control-plane`.\n",
    "\n",
    "Adicionei mais um node:\n",
    "\n",
    "```sh\n",
    "alex@alex-inspiron:~$ minikube node add\n",
    "😄  Adding node m03 to cluster minikube as [worker]\n",
    "👍  Starting \"minikube-m03\" worker node in \"minikube\" cluster\n",
    "🚜  Pulling base image v0.0.44 ...\n",
    "🔥  Creating docker container (CPUs=2, Memory=2200MB) ...\n",
    "🐳  Preparing Kubernetes v1.30.0 on Docker 26.1.1 ...\n",
    "🔎  Verifying Kubernetes components...\n",
    "🏄  Successfully added m03 to minikube!\n",
    "alex@alex-inspiron:~$ kubectl get nodes\n",
    "NAME           STATUS   ROLES           AGE     VERSION\n",
    "minikube       Ready    control-plane   34m     v1.30.0\n",
    "minikube-m02   Ready    <none>          6m25s   v1.30.0\n",
    "minikube-m03   Ready    <none>          6s      v1.30.0\n",
    "```\n",
    "\n",
    "\n"
   ]
  },
  {
   "cell_type": "markdown",
   "metadata": {},
   "source": [
    "### Run and expose php-apache server"
   ]
  },
  {
   "cell_type": "markdown",
   "metadata": {},
   "source": [
    "Start a Deployment that runs a container using the `hpa-example` image, and expose it as a Service using the following manifest:\n",
    "\n",
    "application/php-apache.yaml\n",
    "```yaml\n",
    "apiVersion: apps/v1\n",
    "kind: Deployment\n",
    "metadata:\n",
    "  name: php-apache\n",
    "spec:\n",
    "  selector:\n",
    "    matchLabels:\n",
    "      run: php-apache\n",
    "  template:\n",
    "    metadata:\n",
    "      labels:\n",
    "        run: php-apache\n",
    "    spec:\n",
    "      containers:\n",
    "      - name: php-apache\n",
    "        image: registry.k8s.io/hpa-example\n",
    "        ports:\n",
    "        - containerPort: 80\n",
    "        resources:\n",
    "          limits:\n",
    "            cpu: 500m\n",
    "          requests:\n",
    "            cpu: 200m\n",
    "---\n",
    "apiVersion: v1\n",
    "kind: Service\n",
    "metadata:\n",
    "  name: php-apache\n",
    "  labels:\n",
    "    run: php-apache\n",
    "spec:\n",
    "  ports:\n",
    "  - port: 80\n",
    "  selector:\n",
    "    run: php-apache\n",
    "\n",
    "```\n",
    "\n",
    "This file describes a Kubernetes Deployment and a Service for running a `php-apache` application. This file contains two main sections: the Deployment and the Service.\n",
    "\n",
    "A Deployment manages a set of replicated Pods for a given application. In this case, it's used to deploy a PHP application running on an Apache server.\n",
    "\n",
    "- **apiVersion: apps/v1:** Specifies the API version for the Deployment resource.\n",
    "\n",
    "- **kind: Deployment:** Indicates that this configuration is for a Deployment.\n",
    "\n",
    "- **metadata:**\n",
    "  - **name: php-apache:** The name of the Deployment, which will be used to identify it in the cluster.\n",
    "\n",
    "- **spec:** Defines the desired state and behavior of the Deployment.\n",
    "  - **selector:** Specifies how to identify the Pods managed by this Deployment.\n",
    "    - **matchLabels:** The Deployment will manage Pods with the label `run: php-apache`.\n",
    "  \n",
    "  - **template:** Defines the Pod template used by the Deployment to create Pods.\n",
    "    - **metadata:**\n",
    "      - **labels:** Adds the label `run: php-apache` to the Pods created by this template.\n",
    "    \n",
    "    - **spec:**\n",
    "      - **containers:** Specifies the container settings for the Pods.\n",
    "        - **name: php-apache:** The name of the container.\n",
    "        - **image: registry.k8s.io/hpa-example:** The container image to be used. This example uses an image suitable for demonstrating Horizontal Pod Autoscaling (HPA).\n",
    "        - **ports:** Defines the network ports exposed by the container.\n",
    "          - **containerPort: 80:** Exposes port 80, which is typically used for HTTP traffic.\n",
    "        \n",
    "        - **resources:** Specifies resource requests and limits for the container.\n",
    "          - **limits:**\n",
    "            - **cpu: 500m:** Sets a CPU limit of 500 milliCPU (half a CPU core) for the container.\n",
    "          - **requests:**\n",
    "            - **cpu: 200m:** Requests 200 milliCPU, indicating the amount of CPU guaranteed to the container.\n",
    "\n",
    "A Service in Kubernetes is an abstraction that defines a logical set of Pods and a policy by which to access them, usually by a stable network endpoint.\n",
    "\n",
    "- **apiVersion: v1:** Specifies the API version for the Service resource.\n",
    "\n",
    "- **kind: Service:** Indicates that this configuration is for a Service.\n",
    "\n",
    "- **metadata:**\n",
    "  - **name: php-apache:** The name of the Service.\n",
    "  - **labels:** The label `run: php-apache` helps identify this Service.\n",
    "\n",
    "- **spec:**\n",
    "  - **ports:**\n",
    "    - **port: 80:** Exposes the Service on port 80.\n",
    "  \n",
    "  - **selector:** Defines which Pods this Service targets by matching the label `run: php-apache`.\n",
    "\n",
    "The Deployment ensures that the specified number of Pods (replicas) are running. Each Pod runs a container using the specified image (`registry.k8s.io/hpa-example`) with the defined resource constraints. It exposes port 80 for HTTP traffic.\n",
    "\n",
    "The Service provides a stable endpoint to access the Pods managed by the Deployment. It uses a label selector to route traffic to Pods with the `run: php-apache` label, effectively load balancing the requests among them."
   ]
  },
  {
   "cell_type": "markdown",
   "metadata": {},
   "source": [
    "## Scale pod deployments with Horizontal Pod Autoscaler - AWS EKS"
   ]
  },
  {
   "cell_type": "markdown",
   "metadata": {},
   "source": [
    "https://docs.aws.amazon.com/eks/latest/userguide/horizontal-pod-autoscaler.html"
   ]
  }
 ],
 "metadata": {
  "language_info": {
   "name": "python"
  }
 },
 "nbformat": 4,
 "nbformat_minor": 2
}
