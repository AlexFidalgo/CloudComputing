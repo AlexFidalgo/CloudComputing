{
 "cells": [
  {
   "cell_type": "markdown",
   "metadata": {},
   "source": [
    "# Parte 1"
   ]
  },
  {
   "cell_type": "markdown",
   "metadata": {},
   "source": [
    "Implante um servidor web em um cluster KUBERNETES com auto-escalamento horizontal automático.\n",
    "\n",
    "Pede- se duas implantações:\n",
    "- Cluster Kubernetes usando minikube\n",
    "- Cluster AWS EKS\n",
    "\n",
    "Entregas\n",
    "- Roteiros de implantação e teste\n",
    "- Códigos comentados\n",
    "- Telas\n",
    "- Artigo formato SBC ou IEEE\n",
    "- Repositório GITHUB\n",
    "\n",
    "Apresente um problema e discuta criticamente as implantações. Exemplo de título: técnicas de auto-escalonamento. Procure teses sobre load balancing. Na introdução, diga onde está sua contribuição. Máximo de 12 páginas."
   ]
  },
  {
   "cell_type": "markdown",
   "metadata": {},
   "source": [
    "## Horizontal Pod Autoscaler - Minikube\n",
    "\n"
   ]
  },
  {
   "cell_type": "markdown",
   "metadata": {},
   "source": [
    "https://kubernetes.io/docs/tasks/run-application/horizontal-pod-autoscale-walkthrough/"
   ]
  },
  {
   "cell_type": "markdown",
   "metadata": {},
   "source": [
    "A HorizontalPodAutoscaler (HPA) automatically updates a workload resource (such as a Deployment or StatefulSet), with the aim of automatically scaling the workload to match demand.\n",
    "\n",
    "Both **Deployment** and **StatefulSet** are types of workload resources used to manage the lifecycle of applications. Stateless applications do not retain any client data (or \"state\") between requests. Each request from a client is treated as an independent transaction that is unrelated to any previous request. Stateful applications maintain state across client interactions; this means that they remember previous interactions and use this information to influence future interactions.\n",
    "\n",
    "**Deployment:** Suitable for stateless applications like web servers, APIs, or other services where any instance of the application can handle incoming requests.\n",
    "**StatefulSet:** Suitable for databases, distributed systems like Kafka or Cassandra, or any application where each instance needs to maintain its state across restarts.\n",
    "\n",
    "Horizontal scaling means that the response to increased load is to deploy more Pods. Vertical scaling means assigning more resources (for example: memory or CPU) to the Pods that are already running for the workload.\n",
    "\n",
    "If the load decreases, and the number of Pods is above the configured minimum, the HorizontalPodAutoscaler instructs the workload resource (the Deployment, StatefulSet, or other similar resource) to scale back down."
   ]
  },
  {
   "cell_type": "markdown",
   "metadata": {},
   "source": [
    "## Scale pod deployments with Horizontal Pod Autoscaler - AWS EKS"
   ]
  },
  {
   "cell_type": "markdown",
   "metadata": {},
   "source": [
    "https://docs.aws.amazon.com/eks/latest/userguide/horizontal-pod-autoscaler.html"
   ]
  }
 ],
 "metadata": {
  "language_info": {
   "name": "python"
  }
 },
 "nbformat": 4,
 "nbformat_minor": 2
}
