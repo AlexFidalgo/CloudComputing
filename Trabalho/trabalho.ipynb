{
 "cells": [
  {
   "cell_type": "markdown",
   "metadata": {},
   "source": [
    "# Parte 1"
   ]
  },
  {
   "cell_type": "markdown",
   "metadata": {},
   "source": [
    "Implante um servidor web em um cluster KUBERNETES com auto-escalamento horizontal automático.\n",
    "\n",
    "Pede- se duas implantações:\n",
    "- Cluster Kubernetes usando minikube\n",
    "- Cluster AWS EKS\n",
    "\n",
    "Entregas\n",
    "- Roteiros de implantação e teste\n",
    "- Códigos comentados\n",
    "- Telas\n",
    "- Artigo formato SBC ou IEEE\n",
    "- Repositório GITHUB\n",
    "\n",
    "Apresente um problema e discuta criticamente as implantações. Exemplo de título: técnicas de auto-escalonamento. Procure teses sobre load balancing. Na introdução, diga onde está sua contribuição. Máximo de 12 páginas."
   ]
  },
  {
   "cell_type": "markdown",
   "metadata": {},
   "source": [
    "## Horizontal Pod Autoscaler - Minikube\n",
    "\n"
   ]
  },
  {
   "cell_type": "markdown",
   "metadata": {},
   "source": [
    "https://kubernetes.io/docs/tasks/run-application/horizontal-pod-autoscale-walkthrough/"
   ]
  },
  {
   "cell_type": "markdown",
   "metadata": {},
   "source": [
    "## Scale pod deployments with Horizontal Pod Autoscaler - AWS EKS"
   ]
  },
  {
   "cell_type": "markdown",
   "metadata": {},
   "source": [
    "https://docs.aws.amazon.com/eks/latest/userguide/horizontal-pod-autoscaler.html"
   ]
  }
 ],
 "metadata": {
  "language_info": {
   "name": "python"
  }
 },
 "nbformat": 4,
 "nbformat_minor": 2
}
